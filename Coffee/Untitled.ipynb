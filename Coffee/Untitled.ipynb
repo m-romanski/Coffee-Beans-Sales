{
 "cells": [
  {
   "cell_type": "code",
   "execution_count": 2,
   "id": "61432a4b",
   "metadata": {},
   "outputs": [],
   "source": [
    "import pandas as pd\n",
    "import matplotlib.pyplot as plt\n",
    "import seaborn as sns\n",
    "import numpy as np\n",
    "from sklearn.preprocessing import OneHotEncoder"
   ]
  },
  {
   "cell_type": "code",
   "execution_count": 3,
   "id": "d44e0a2f",
   "metadata": {},
   "outputs": [],
   "source": [
    "product_df = pd.read_csv('data/product.csv')"
   ]
  },
  {
   "cell_type": "code",
   "execution_count": null,
   "id": "b6593fad",
   "metadata": {},
   "outputs": [],
   "source": []
  },
  {
   "cell_type": "code",
   "execution_count": 4,
   "id": "99fa787c",
   "metadata": {},
   "outputs": [
    {
     "data": {
      "text/html": [
       "<div>\n",
       "<style scoped>\n",
       "    .dataframe tbody tr th:only-of-type {\n",
       "        vertical-align: middle;\n",
       "    }\n",
       "\n",
       "    .dataframe tbody tr th {\n",
       "        vertical-align: top;\n",
       "    }\n",
       "\n",
       "    .dataframe thead th {\n",
       "        text-align: right;\n",
       "    }\n",
       "</style>\n",
       "<table border=\"1\" class=\"dataframe\">\n",
       "  <thead>\n",
       "    <tr style=\"text-align: right;\">\n",
       "      <th></th>\n",
       "      <th>Unnamed: 0</th>\n",
       "      <th>Product ID</th>\n",
       "      <th>Country</th>\n",
       "      <th>Unit Price</th>\n",
       "      <th>Unit Profit</th>\n",
       "      <th>Unit Profit Percentage</th>\n",
       "      <th>Unit Weight(kg)</th>\n",
       "      <th>Coffee Type</th>\n",
       "      <th>Roast Type</th>\n",
       "      <th>Price per 100g</th>\n",
       "      <th>Quantity</th>\n",
       "    </tr>\n",
       "  </thead>\n",
       "  <tbody>\n",
       "    <tr>\n",
       "      <th>0</th>\n",
       "      <td>0</td>\n",
       "      <td>A-D-0.2</td>\n",
       "      <td>Ireland</td>\n",
       "      <td>2.985</td>\n",
       "      <td>0.26865</td>\n",
       "      <td>0.09</td>\n",
       "      <td>0.2</td>\n",
       "      <td>Ara</td>\n",
       "      <td>D</td>\n",
       "      <td>1.4925</td>\n",
       "      <td>27.0</td>\n",
       "    </tr>\n",
       "    <tr>\n",
       "      <th>1</th>\n",
       "      <td>1</td>\n",
       "      <td>A-D-0.2</td>\n",
       "      <td>United States</td>\n",
       "      <td>2.985</td>\n",
       "      <td>0.26865</td>\n",
       "      <td>0.09</td>\n",
       "      <td>0.2</td>\n",
       "      <td>Ara</td>\n",
       "      <td>D</td>\n",
       "      <td>1.4925</td>\n",
       "      <td>70.0</td>\n",
       "    </tr>\n",
       "    <tr>\n",
       "      <th>2</th>\n",
       "      <td>2</td>\n",
       "      <td>A-D-0.5</td>\n",
       "      <td>Ireland</td>\n",
       "      <td>5.970</td>\n",
       "      <td>0.53730</td>\n",
       "      <td>0.09</td>\n",
       "      <td>0.5</td>\n",
       "      <td>Ara</td>\n",
       "      <td>D</td>\n",
       "      <td>1.1940</td>\n",
       "      <td>16.0</td>\n",
       "    </tr>\n",
       "    <tr>\n",
       "      <th>3</th>\n",
       "      <td>3</td>\n",
       "      <td>A-D-0.5</td>\n",
       "      <td>United Kingdom</td>\n",
       "      <td>5.970</td>\n",
       "      <td>0.53730</td>\n",
       "      <td>0.09</td>\n",
       "      <td>0.5</td>\n",
       "      <td>Ara</td>\n",
       "      <td>D</td>\n",
       "      <td>1.1940</td>\n",
       "      <td>5.0</td>\n",
       "    </tr>\n",
       "    <tr>\n",
       "      <th>4</th>\n",
       "      <td>4</td>\n",
       "      <td>A-D-0.5</td>\n",
       "      <td>United States</td>\n",
       "      <td>5.970</td>\n",
       "      <td>0.53730</td>\n",
       "      <td>0.09</td>\n",
       "      <td>0.5</td>\n",
       "      <td>Ara</td>\n",
       "      <td>D</td>\n",
       "      <td>1.1940</td>\n",
       "      <td>68.0</td>\n",
       "    </tr>\n",
       "    <tr>\n",
       "      <th>...</th>\n",
       "      <td>...</td>\n",
       "      <td>...</td>\n",
       "      <td>...</td>\n",
       "      <td>...</td>\n",
       "      <td>...</td>\n",
       "      <td>...</td>\n",
       "      <td>...</td>\n",
       "      <td>...</td>\n",
       "      <td>...</td>\n",
       "      <td>...</td>\n",
       "      <td>...</td>\n",
       "    </tr>\n",
       "    <tr>\n",
       "      <th>126</th>\n",
       "      <td>126</td>\n",
       "      <td>R-M-1</td>\n",
       "      <td>United Kingdom</td>\n",
       "      <td>9.950</td>\n",
       "      <td>0.59700</td>\n",
       "      <td>0.06</td>\n",
       "      <td>1.0</td>\n",
       "      <td>Rob</td>\n",
       "      <td>M</td>\n",
       "      <td>0.9950</td>\n",
       "      <td>12.0</td>\n",
       "    </tr>\n",
       "    <tr>\n",
       "      <th>127</th>\n",
       "      <td>127</td>\n",
       "      <td>R-M-1</td>\n",
       "      <td>United States</td>\n",
       "      <td>9.950</td>\n",
       "      <td>0.59700</td>\n",
       "      <td>0.06</td>\n",
       "      <td>1.0</td>\n",
       "      <td>Rob</td>\n",
       "      <td>M</td>\n",
       "      <td>0.9950</td>\n",
       "      <td>51.0</td>\n",
       "    </tr>\n",
       "    <tr>\n",
       "      <th>128</th>\n",
       "      <td>128</td>\n",
       "      <td>R-M-2.5</td>\n",
       "      <td>Ireland</td>\n",
       "      <td>22.885</td>\n",
       "      <td>1.37310</td>\n",
       "      <td>0.06</td>\n",
       "      <td>2.5</td>\n",
       "      <td>Rob</td>\n",
       "      <td>M</td>\n",
       "      <td>0.9154</td>\n",
       "      <td>4.0</td>\n",
       "    </tr>\n",
       "    <tr>\n",
       "      <th>129</th>\n",
       "      <td>129</td>\n",
       "      <td>R-M-2.5</td>\n",
       "      <td>United Kingdom</td>\n",
       "      <td>22.885</td>\n",
       "      <td>1.37310</td>\n",
       "      <td>0.06</td>\n",
       "      <td>2.5</td>\n",
       "      <td>Rob</td>\n",
       "      <td>M</td>\n",
       "      <td>0.9154</td>\n",
       "      <td>6.0</td>\n",
       "    </tr>\n",
       "    <tr>\n",
       "      <th>130</th>\n",
       "      <td>130</td>\n",
       "      <td>R-M-2.5</td>\n",
       "      <td>United States</td>\n",
       "      <td>22.885</td>\n",
       "      <td>1.37310</td>\n",
       "      <td>0.06</td>\n",
       "      <td>2.5</td>\n",
       "      <td>Rob</td>\n",
       "      <td>M</td>\n",
       "      <td>0.9154</td>\n",
       "      <td>46.0</td>\n",
       "    </tr>\n",
       "  </tbody>\n",
       "</table>\n",
       "<p>131 rows × 11 columns</p>\n",
       "</div>"
      ],
      "text/plain": [
       "     Unnamed: 0 Product ID         Country  Unit Price  Unit Profit  \\\n",
       "0             0    A-D-0.2         Ireland       2.985      0.26865   \n",
       "1             1    A-D-0.2   United States       2.985      0.26865   \n",
       "2             2    A-D-0.5         Ireland       5.970      0.53730   \n",
       "3             3    A-D-0.5  United Kingdom       5.970      0.53730   \n",
       "4             4    A-D-0.5   United States       5.970      0.53730   \n",
       "..          ...        ...             ...         ...          ...   \n",
       "126         126      R-M-1  United Kingdom       9.950      0.59700   \n",
       "127         127      R-M-1   United States       9.950      0.59700   \n",
       "128         128    R-M-2.5         Ireland      22.885      1.37310   \n",
       "129         129    R-M-2.5  United Kingdom      22.885      1.37310   \n",
       "130         130    R-M-2.5   United States      22.885      1.37310   \n",
       "\n",
       "     Unit Profit Percentage  Unit Weight(kg) Coffee Type Roast Type  \\\n",
       "0                      0.09              0.2         Ara          D   \n",
       "1                      0.09              0.2         Ara          D   \n",
       "2                      0.09              0.5         Ara          D   \n",
       "3                      0.09              0.5         Ara          D   \n",
       "4                      0.09              0.5         Ara          D   \n",
       "..                      ...              ...         ...        ...   \n",
       "126                    0.06              1.0         Rob          M   \n",
       "127                    0.06              1.0         Rob          M   \n",
       "128                    0.06              2.5         Rob          M   \n",
       "129                    0.06              2.5         Rob          M   \n",
       "130                    0.06              2.5         Rob          M   \n",
       "\n",
       "     Price per 100g  Quantity  \n",
       "0            1.4925      27.0  \n",
       "1            1.4925      70.0  \n",
       "2            1.1940      16.0  \n",
       "3            1.1940       5.0  \n",
       "4            1.1940      68.0  \n",
       "..              ...       ...  \n",
       "126          0.9950      12.0  \n",
       "127          0.9950      51.0  \n",
       "128          0.9154       4.0  \n",
       "129          0.9154       6.0  \n",
       "130          0.9154      46.0  \n",
       "\n",
       "[131 rows x 11 columns]"
      ]
     },
     "execution_count": 4,
     "metadata": {},
     "output_type": "execute_result"
    }
   ],
   "source": [
    "product_df"
   ]
  },
  {
   "cell_type": "markdown",
   "id": "5a39ef0b",
   "metadata": {},
   "source": [
    "I am adding new feature columns related to the current data already available to be able to look at the products in a different way than already recorded. These columns may be useful in solving questions or problems for other businesses looking to get into coffee sales."
   ]
  },
  {
   "cell_type": "code",
   "execution_count": 5,
   "id": "dcac0d95",
   "metadata": {},
   "outputs": [],
   "source": [
    "product_df['Total Quantity'] = product_df.groupby('Country')['Quantity'].transform('sum')\n",
    "product_df['Percent Purchased'] = product_df['Quantity'] / product_df['Total Quantity']\n",
    "product_df['Total Unit Sales'] = product_df['Unit Price'] * product_df['Quantity']\n",
    "product_df ['Total Unit Profit'] = product_df['Unit Profit'] * product_df['Quantity']\n",
    "product_df['Total Unit Weight Sold'] = product_df['Unit Weight(kg)'] * product_df['Quantity']\n",
    "product_df['Total Weight'] = product_df.groupby('Country')['Total Unit Weight Sold'].transform('sum')\n",
    "product_df['Percent of Total Weight Shipped'] = product_df['Total Unit Weight Sold'] / product_df['Total Weight']"
   ]
  },
  {
   "cell_type": "code",
   "execution_count": 6,
   "id": "f55456b1",
   "metadata": {},
   "outputs": [],
   "source": [
    "product_df.sort_values(by='Percent Purchased', ascending=False, inplace=True )"
   ]
  },
  {
   "cell_type": "markdown",
   "id": "bc825120",
   "metadata": {},
   "source": [
    "### Favorite Coffee by Country\n",
    "In order to gain some meaningful insights about Coffee purchased from this seller, I would like to first break down the products by the Country they were purchased in."
   ]
  },
  {
   "cell_type": "code",
   "execution_count": 7,
   "id": "ba441f40",
   "metadata": {},
   "outputs": [],
   "source": [
    "ireland_prod = product_df[product_df['Country'] == 'Ireland'].head(10)\n",
    "uk_prod= product_df[product_df['Country'] == 'United Kingdom'].head(10)\n",
    "us_prod= product_df[product_df['Country'] == 'United States'].head(10)"
   ]
  },
  {
   "cell_type": "markdown",
   "id": "f495bdce",
   "metadata": {},
   "source": [
    "### United States"
   ]
  },
  {
   "cell_type": "code",
   "execution_count": 16,
   "id": "b855df00",
   "metadata": {},
   "outputs": [
    {
     "data": {
      "text/plain": [
       "([0, 1, 2, 3, 4, 5, 6, 7, 8, 9], <a list of 10 Text major ticklabel objects>)"
      ]
     },
     "execution_count": 16,
     "metadata": {},
     "output_type": "execute_result"
    },
    {
     "data": {
      "image/png": "[encoded data removed]",
      "text/plain": [
       "<Figure size 640x480 with 1 Axes>"
      ]
     },
     "metadata": {},
     "output_type": "display_data"
    }
   ],
   "source": [
    "plt.bar(us_prod['Product ID'], us_prod['Percent Purchased'])\n",
    "plt.xticks(rotation=90)"
   ]
  },
  {
   "cell_type": "markdown",
   "id": "f6c1189e",
   "metadata": {},
   "source": [
    "Medium Roast Arabica coffee appears to be the most popular coffee and roast type purchased in the U.S. as it occupies the number 1, 2 and 9 spot of top 10 in percent purchased coffee. Particulary, the 2.5kg and .5kg products are the most purchased in the U.S."
   ]
  },
  {
   "cell_type": "code",
   "execution_count": 17,
   "id": "e157a511",
   "metadata": {},
   "outputs": [
    {
     "data": {
      "text/plain": [
       "([0, 1, 2, 3, 4, 5, 6, 7, 8, 9], <a list of 10 Text major ticklabel objects>)"
      ]
     },
     "execution_count": 17,
     "metadata": {},
     "output_type": "execute_result"
    },
    {
     "data": {
      "image/png": "[encoded data removed]",
      "text/plain": [
       "<Figure size 640x480 with 1 Axes>"
      ]
     },
     "metadata": {},
     "output_type": "display_data"
    }
   ],
   "source": [
    "plt.bar(us_prod['Product ID'], us_prod['Total Unit Profit'])\n",
    "plt.xticks(rotation=90)\n"
   ]
  },
  {
   "cell_type": "markdown",
   "id": "a8924571",
   "metadata": {},
   "source": [
    "The total profits gained by product appears to be motly determined by product size. The larger the product, the more total profit gained."
   ]
  },
  {
   "cell_type": "code",
   "execution_count": 18,
   "id": "887cb9ac",
   "metadata": {},
   "outputs": [
    {
     "data": {
      "text/plain": [
       "([0, 1, 2, 3, 4, 5, 6, 7, 8, 9], <a list of 10 Text major ticklabel objects>)"
      ]
     },
     "execution_count": 18,
     "metadata": {},
     "output_type": "execute_result"
    },
    {
     "data": {
      "image/png": "[encoded data removed]",
      "text/plain": [
       "<Figure size 640x480 with 1 Axes>"
      ]
     },
     "metadata": {},
     "output_type": "display_data"
    }
   ],
   "source": [
    "plt.bar(us_prod['Product ID'], us_prod['Unit Price'])\n",
    "plt.xticks(rotation=90)"
   ]
  },
  {
   "cell_type": "markdown",
   "id": "34aa6e55",
   "metadata": {},
   "source": [
    "The inidividual price per product similarly is determined by product size. This graph and the total profit graphs are incredibly similar in their appearance, hinting at a strong correlation between the two. "
   ]
  },
  {
   "cell_type": "code",
   "execution_count": 19,
   "id": "0e9eb54d",
   "metadata": {},
   "outputs": [
    {
     "data": {
      "text/plain": [
       "([0, 1, 2, 3, 4, 5, 6, 7, 8, 9], <a list of 10 Text major ticklabel objects>)"
      ]
     },
     "execution_count": 19,
     "metadata": {},
     "output_type": "execute_result"
    },
    {
     "data": {
      "image/png": "[encoded data removed]",
      "text/plain": [
       "<Figure size 640x480 with 1 Axes>"
      ]
     },
     "metadata": {},
     "output_type": "display_data"
    }
   ],
   "source": [
    "plt.bar(us_prod['Product ID'], us_prod['Price per 100g'])\n",
    "plt.xticks(rotation=90)"
   ]
  },
  {
   "cell_type": "markdown",
   "id": "bb599b9d",
   "metadata": {},
   "source": [
    "Conversely, Price per 100g is higher the lower the product size. Coffee type does also play a role here, with product R-L-1 costing the same per 100g as A-L-2.5. Possible reasons for this is that labor costs don't get more expensive while filling larger bags and additionally the need for more bags at the smaller size are likely driving costs up. Shipping costs may also play a role as the initial cost to ship, especially internationally, is high and shipping in bulk may be more cost effective."
   ]
  },
  {
   "cell_type": "code",
   "execution_count": null,
   "id": "6062c31c",
   "metadata": {},
   "outputs": [],
   "source": []
  },
  {
   "cell_type": "code",
   "execution_count": 13,
   "id": "57098adc",
   "metadata": {},
   "outputs": [
    {
     "data": {
      "text/plain": [
       "([0, 1, 2, 3, 4, 5, 6, 7, 8, 9], <a list of 10 Text major ticklabel objects>)"
      ]
     },
     "execution_count": 13,
     "metadata": {},
     "output_type": "execute_result"
    },
    {
     "data": {
      "image/png": "[encoded data removed]",
      "text/plain": [
       "<Figure size 640x480 with 1 Axes>"
      ]
     },
     "metadata": {},
     "output_type": "display_data"
    }
   ],
   "source": [
    "plt.bar(us_prod['Product ID'], us_prod['Unit Profit Percentage'])\n",
    "plt.xticks(rotation=90)"
   ]
  },
  {
   "cell_type": "markdown",
   "id": "f5b6db01",
   "metadata": {},
   "source": [
    "As weight goes up, price per 100g goes down, relative to each coffee and roast type. Profit percentage is set by coffee type rather than roast or weight.\n",
    "\n",
    "Prouct L-M-0.2 is the most profitable and 5th most purchased in the U.S."
   ]
  },
  {
   "cell_type": "code",
   "execution_count": null,
   "id": "0fa79caf",
   "metadata": {},
   "outputs": [],
   "source": []
  }
 ],
 "metadata": {
  "kernelspec": {
   "display_name": "Python 3 (ipykernel)",
   "language": "python",
   "name": "python3"
  },
  "language_info": {
   "codemirror_mode": {
    "name": "ipython",
    "version": 3
   },
   "file_extension": ".py",
   "mimetype": "text/x-python",
   "name": "python",
   "nbconvert_exporter": "python",
   "pygments_lexer": "ipython3",
   "version": "3.7.16"
  }
 },
 "nbformat": 4,
 "nbformat_minor": 5
}

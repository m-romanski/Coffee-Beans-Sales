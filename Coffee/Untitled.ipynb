{
 "cells": [
  {
   "cell_type": "code",
   "execution_count": 1,
   "id": "61432a4b",
   "metadata": {},
   "outputs": [],
   "source": [
    "import pandas as pd\n",
    "import matplotlib.pyplot as plt\n",
    "import seaborn as sns\n",
    "import numpy as np\n",
    "from sklearn.preprocessing import OneHotEncoder\n",
    "from sklearn.model_selection import TimeSeriesSplit"
   ]
  },
  {
   "cell_type": "code",
   "execution_count": null,
   "id": "f1e269aa",
   "metadata": {},
   "outputs": [],
   "source": []
  },
  {
   "cell_type": "code",
   "execution_count": 2,
   "id": "d44e0a2f",
   "metadata": {},
   "outputs": [],
   "source": [
    "coffee_df = pd.read_csv('data/coffee.csv')\n",
    "product_df = pd.read_csv('data/product.csv')"
   ]
  },
  {
   "cell_type": "code",
   "execution_count": 3,
   "id": "b6593fad",
   "metadata": {},
   "outputs": [
    {
     "name": "stdout",
     "output_type": "stream",
     "text": [
      "<class 'pandas.core.frame.DataFrame'>\n",
      "RangeIndex: 1000 entries, 0 to 999\n",
      "Data columns (total 20 columns):\n",
      " #   Column                  Non-Null Count  Dtype  \n",
      "---  ------                  --------------  -----  \n",
      " 0   Unnamed: 0              1000 non-null   int64  \n",
      " 1   Order ID                1000 non-null   object \n",
      " 2   Order Date              1000 non-null   object \n",
      " 3   Customer ID             1000 non-null   object \n",
      " 4   Product ID              1000 non-null   object \n",
      " 5   Quantity                1000 non-null   float64\n",
      " 6   Sales                   1000 non-null   float64\n",
      " 7   Coffee Type             1000 non-null   object \n",
      " 8   Roast Type              1000 non-null   object \n",
      " 9   Unit Weight(kg)         1000 non-null   float64\n",
      " 10  Unit Price              1000 non-null   float64\n",
      " 11  Price per 100g          1000 non-null   float64\n",
      " 12  Unit Profit             1000 non-null   float64\n",
      " 13  Address Line 1          1000 non-null   object \n",
      " 14  City                    1000 non-null   object \n",
      " 15  Country                 1000 non-null   object \n",
      " 16  Postcode                1000 non-null   object \n",
      " 17  Loyalty Card            1000 non-null   object \n",
      " 18  Order Profit            1000 non-null   float64\n",
      " 19  Unit Profit Percentage  1000 non-null   float64\n",
      "dtypes: float64(8), int64(1), object(11)\n",
      "memory usage: 156.4+ KB\n"
     ]
    }
   ],
   "source": [
    "coffee_df.info()"
   ]
  },
  {
   "cell_type": "code",
   "execution_count": 4,
   "id": "99fa787c",
   "metadata": {},
   "outputs": [
    {
     "data": {
      "text/html": [
       "<div>\n",
       "<style scoped>\n",
       "    .dataframe tbody tr th:only-of-type {\n",
       "        vertical-align: middle;\n",
       "    }\n",
       "\n",
       "    .dataframe tbody tr th {\n",
       "        vertical-align: top;\n",
       "    }\n",
       "\n",
       "    .dataframe thead th {\n",
       "        text-align: right;\n",
       "    }\n",
       "</style>\n",
       "<table border=\"1\" class=\"dataframe\">\n",
       "  <thead>\n",
       "    <tr style=\"text-align: right;\">\n",
       "      <th></th>\n",
       "      <th>Unnamed: 0</th>\n",
       "      <th>Product ID</th>\n",
       "      <th>Country</th>\n",
       "      <th>Unit Price</th>\n",
       "      <th>Unit Profit</th>\n",
       "      <th>Unit Profit Percentage</th>\n",
       "      <th>Unit Weight(kg)</th>\n",
       "      <th>Coffee Type</th>\n",
       "      <th>Roast Type</th>\n",
       "      <th>Price per 100g</th>\n",
       "      <th>Quantity</th>\n",
       "    </tr>\n",
       "  </thead>\n",
       "  <tbody>\n",
       "    <tr>\n",
       "      <th>0</th>\n",
       "      <td>0</td>\n",
       "      <td>A-D-0.2</td>\n",
       "      <td>Ireland</td>\n",
       "      <td>2.985</td>\n",
       "      <td>0.26865</td>\n",
       "      <td>0.09</td>\n",
       "      <td>0.2</td>\n",
       "      <td>Ara</td>\n",
       "      <td>D</td>\n",
       "      <td>1.4925</td>\n",
       "      <td>27.0</td>\n",
       "    </tr>\n",
       "    <tr>\n",
       "      <th>1</th>\n",
       "      <td>1</td>\n",
       "      <td>A-D-0.2</td>\n",
       "      <td>United States</td>\n",
       "      <td>2.985</td>\n",
       "      <td>0.26865</td>\n",
       "      <td>0.09</td>\n",
       "      <td>0.2</td>\n",
       "      <td>Ara</td>\n",
       "      <td>D</td>\n",
       "      <td>1.4925</td>\n",
       "      <td>70.0</td>\n",
       "    </tr>\n",
       "    <tr>\n",
       "      <th>2</th>\n",
       "      <td>2</td>\n",
       "      <td>A-D-0.5</td>\n",
       "      <td>Ireland</td>\n",
       "      <td>5.970</td>\n",
       "      <td>0.53730</td>\n",
       "      <td>0.09</td>\n",
       "      <td>0.5</td>\n",
       "      <td>Ara</td>\n",
       "      <td>D</td>\n",
       "      <td>1.1940</td>\n",
       "      <td>16.0</td>\n",
       "    </tr>\n",
       "    <tr>\n",
       "      <th>3</th>\n",
       "      <td>3</td>\n",
       "      <td>A-D-0.5</td>\n",
       "      <td>United Kingdom</td>\n",
       "      <td>5.970</td>\n",
       "      <td>0.53730</td>\n",
       "      <td>0.09</td>\n",
       "      <td>0.5</td>\n",
       "      <td>Ara</td>\n",
       "      <td>D</td>\n",
       "      <td>1.1940</td>\n",
       "      <td>5.0</td>\n",
       "    </tr>\n",
       "    <tr>\n",
       "      <th>4</th>\n",
       "      <td>4</td>\n",
       "      <td>A-D-0.5</td>\n",
       "      <td>United States</td>\n",
       "      <td>5.970</td>\n",
       "      <td>0.53730</td>\n",
       "      <td>0.09</td>\n",
       "      <td>0.5</td>\n",
       "      <td>Ara</td>\n",
       "      <td>D</td>\n",
       "      <td>1.1940</td>\n",
       "      <td>68.0</td>\n",
       "    </tr>\n",
       "    <tr>\n",
       "      <th>...</th>\n",
       "      <td>...</td>\n",
       "      <td>...</td>\n",
       "      <td>...</td>\n",
       "      <td>...</td>\n",
       "      <td>...</td>\n",
       "      <td>...</td>\n",
       "      <td>...</td>\n",
       "      <td>...</td>\n",
       "      <td>...</td>\n",
       "      <td>...</td>\n",
       "      <td>...</td>\n",
       "    </tr>\n",
       "    <tr>\n",
       "      <th>126</th>\n",
       "      <td>126</td>\n",
       "      <td>R-M-1</td>\n",
       "      <td>United Kingdom</td>\n",
       "      <td>9.950</td>\n",
       "      <td>0.59700</td>\n",
       "      <td>0.06</td>\n",
       "      <td>1.0</td>\n",
       "      <td>Rob</td>\n",
       "      <td>M</td>\n",
       "      <td>0.9950</td>\n",
       "      <td>12.0</td>\n",
       "    </tr>\n",
       "    <tr>\n",
       "      <th>127</th>\n",
       "      <td>127</td>\n",
       "      <td>R-M-1</td>\n",
       "      <td>United States</td>\n",
       "      <td>9.950</td>\n",
       "      <td>0.59700</td>\n",
       "      <td>0.06</td>\n",
       "      <td>1.0</td>\n",
       "      <td>Rob</td>\n",
       "      <td>M</td>\n",
       "      <td>0.9950</td>\n",
       "      <td>51.0</td>\n",
       "    </tr>\n",
       "    <tr>\n",
       "      <th>128</th>\n",
       "      <td>128</td>\n",
       "      <td>R-M-2.5</td>\n",
       "      <td>Ireland</td>\n",
       "      <td>22.885</td>\n",
       "      <td>1.37310</td>\n",
       "      <td>0.06</td>\n",
       "      <td>2.5</td>\n",
       "      <td>Rob</td>\n",
       "      <td>M</td>\n",
       "      <td>0.9154</td>\n",
       "      <td>4.0</td>\n",
       "    </tr>\n",
       "    <tr>\n",
       "      <th>129</th>\n",
       "      <td>129</td>\n",
       "      <td>R-M-2.5</td>\n",
       "      <td>United Kingdom</td>\n",
       "      <td>22.885</td>\n",
       "      <td>1.37310</td>\n",
       "      <td>0.06</td>\n",
       "      <td>2.5</td>\n",
       "      <td>Rob</td>\n",
       "      <td>M</td>\n",
       "      <td>0.9154</td>\n",
       "      <td>6.0</td>\n",
       "    </tr>\n",
       "    <tr>\n",
       "      <th>130</th>\n",
       "      <td>130</td>\n",
       "      <td>R-M-2.5</td>\n",
       "      <td>United States</td>\n",
       "      <td>22.885</td>\n",
       "      <td>1.37310</td>\n",
       "      <td>0.06</td>\n",
       "      <td>2.5</td>\n",
       "      <td>Rob</td>\n",
       "      <td>M</td>\n",
       "      <td>0.9154</td>\n",
       "      <td>46.0</td>\n",
       "    </tr>\n",
       "  </tbody>\n",
       "</table>\n",
       "<p>131 rows × 11 columns</p>\n",
       "</div>"
      ],
      "text/plain": [
       "     Unnamed: 0 Product ID         Country  Unit Price  Unit Profit  \\\n",
       "0             0    A-D-0.2         Ireland       2.985      0.26865   \n",
       "1             1    A-D-0.2   United States       2.985      0.26865   \n",
       "2             2    A-D-0.5         Ireland       5.970      0.53730   \n",
       "3             3    A-D-0.5  United Kingdom       5.970      0.53730   \n",
       "4             4    A-D-0.5   United States       5.970      0.53730   \n",
       "..          ...        ...             ...         ...          ...   \n",
       "126         126      R-M-1  United Kingdom       9.950      0.59700   \n",
       "127         127      R-M-1   United States       9.950      0.59700   \n",
       "128         128    R-M-2.5         Ireland      22.885      1.37310   \n",
       "129         129    R-M-2.5  United Kingdom      22.885      1.37310   \n",
       "130         130    R-M-2.5   United States      22.885      1.37310   \n",
       "\n",
       "     Unit Profit Percentage  Unit Weight(kg) Coffee Type Roast Type  \\\n",
       "0                      0.09              0.2         Ara          D   \n",
       "1                      0.09              0.2         Ara          D   \n",
       "2                      0.09              0.5         Ara          D   \n",
       "3                      0.09              0.5         Ara          D   \n",
       "4                      0.09              0.5         Ara          D   \n",
       "..                      ...              ...         ...        ...   \n",
       "126                    0.06              1.0         Rob          M   \n",
       "127                    0.06              1.0         Rob          M   \n",
       "128                    0.06              2.5         Rob          M   \n",
       "129                    0.06              2.5         Rob          M   \n",
       "130                    0.06              2.5         Rob          M   \n",
       "\n",
       "     Price per 100g  Quantity  \n",
       "0            1.4925      27.0  \n",
       "1            1.4925      70.0  \n",
       "2            1.1940      16.0  \n",
       "3            1.1940       5.0  \n",
       "4            1.1940      68.0  \n",
       "..              ...       ...  \n",
       "126          0.9950      12.0  \n",
       "127          0.9950      51.0  \n",
       "128          0.9154       4.0  \n",
       "129          0.9154       6.0  \n",
       "130          0.9154      46.0  \n",
       "\n",
       "[131 rows x 11 columns]"
      ]
     },
     "execution_count": 4,
     "metadata": {},
     "output_type": "execute_result"
    }
   ],
   "source": [
    "product_df"
   ]
  },
  {
   "cell_type": "markdown",
   "id": "5a39ef0b",
   "metadata": {},
   "source": [
    "I am adding new feature columns related to the current data already available to be able to look at the products in a different way than already recorded. These columns may be useful in solving questions or problems for other businesses looking to get into coffee sales."
   ]
  },
  {
   "cell_type": "code",
   "execution_count": 5,
   "id": "dcac0d95",
   "metadata": {},
   "outputs": [],
   "source": [
    "product_df['Total Quantity'] = product_df.groupby('Country')['Quantity'].transform('sum')\n",
    "product_df['Percent Purchased'] = product_df['Quantity'] / product_df['Total Quantity']\n",
    "product_df['Total Unit Sales'] = product_df['Unit Price'] * product_df['Quantity']\n",
    "product_df ['Total Unit Profit'] = product_df['Unit Profit'] * product_df['Quantity']\n",
    "product_df['Total Unit Weight Sold'] = product_df['Unit Weight(kg)'] * product_df['Quantity']\n",
    "product_df['Total Weight'] = product_df.groupby('Country')['Total Unit Weight Sold'].transform('sum')\n",
    "product_df['Percent of Total Weight Shipped'] = product_df['Total Unit Weight Sold'] / product_df['Total Weight']"
   ]
  },
  {
   "cell_type": "code",
   "execution_count": 6,
   "id": "f55456b1",
   "metadata": {},
   "outputs": [],
   "source": [
    "product_df.sort_values(by='Percent Purchased', ascending=False, inplace=True )"
   ]
  },
  {
   "cell_type": "markdown",
   "id": "bc825120",
   "metadata": {},
   "source": [
    "### Favorite Coffee by Country\n",
    "In order to gain some meaningful insights about Coffee purchased from this seller, I would like to first break down the products by the Country they were purchased in."
   ]
  },
  {
   "cell_type": "code",
   "execution_count": 7,
   "id": "ba441f40",
   "metadata": {},
   "outputs": [],
   "source": [
    "ireland_prod = product_df[product_df['Country'] == 'Ireland'].head(10)\n",
    "uk_prod= product_df[product_df['Country'] == 'United Kingdom'].head(10)\n",
    "us_prod= product_df[product_df['Country'] == 'United States'].head(10)"
   ]
  },
  {
   "cell_type": "markdown",
   "id": "f495bdce",
   "metadata": {},
   "source": [
    "### United States"
   ]
  },
  {
   "cell_type": "code",
   "execution_count": 8,
   "id": "d8db32e1",
   "metadata": {},
   "outputs": [
    {
     "data": {
      "text/html": [
       "<div>\n",
       "<style scoped>\n",
       "    .dataframe tbody tr th:only-of-type {\n",
       "        vertical-align: middle;\n",
       "    }\n",
       "\n",
       "    .dataframe tbody tr th {\n",
       "        vertical-align: top;\n",
       "    }\n",
       "\n",
       "    .dataframe thead th {\n",
       "        text-align: right;\n",
       "    }\n",
       "</style>\n",
       "<table border=\"1\" class=\"dataframe\">\n",
       "  <thead>\n",
       "    <tr style=\"text-align: right;\">\n",
       "      <th></th>\n",
       "      <th>Unnamed: 0</th>\n",
       "      <th>Unit Price</th>\n",
       "      <th>Unit Profit</th>\n",
       "      <th>Unit Profit Percentage</th>\n",
       "      <th>Unit Weight(kg)</th>\n",
       "      <th>Price per 100g</th>\n",
       "      <th>Quantity</th>\n",
       "      <th>Total Quantity</th>\n",
       "      <th>Percent Purchased</th>\n",
       "      <th>Total Unit Sales</th>\n",
       "      <th>Total Unit Profit</th>\n",
       "      <th>Total Unit Weight Sold</th>\n",
       "      <th>Total Weight</th>\n",
       "      <th>Percent of Total Weight Shipped</th>\n",
       "    </tr>\n",
       "  </thead>\n",
       "  <tbody>\n",
       "    <tr>\n",
       "      <th>count</th>\n",
       "      <td>10.000000</td>\n",
       "      <td>10.00000</td>\n",
       "      <td>10.000000</td>\n",
       "      <td>10.000000</td>\n",
       "      <td>10.000000</td>\n",
       "      <td>10.000000</td>\n",
       "      <td>10.000000</td>\n",
       "      <td>10.0</td>\n",
       "      <td>10.000000</td>\n",
       "      <td>10.000000</td>\n",
       "      <td>10.000000</td>\n",
       "      <td>10.000000</td>\n",
       "      <td>1.000000e+01</td>\n",
       "      <td>10.000000</td>\n",
       "    </tr>\n",
       "    <tr>\n",
       "      <th>mean</th>\n",
       "      <td>44.400000</td>\n",
       "      <td>13.04700</td>\n",
       "      <td>1.230860</td>\n",
       "      <td>0.097000</td>\n",
       "      <td>1.040000</td>\n",
       "      <td>1.421340</td>\n",
       "      <td>76.200000</td>\n",
       "      <td>2760.0</td>\n",
       "      <td>0.027609</td>\n",
       "      <td>1023.324500</td>\n",
       "      <td>96.202925</td>\n",
       "      <td>82.480000</td>\n",
       "      <td>2.865900e+03</td>\n",
       "      <td>0.028780</td>\n",
       "    </tr>\n",
       "    <tr>\n",
       "      <th>std</th>\n",
       "      <td>34.696141</td>\n",
       "      <td>8.73234</td>\n",
       "      <td>0.794274</td>\n",
       "      <td>0.018886</td>\n",
       "      <td>0.834266</td>\n",
       "      <td>0.344314</td>\n",
       "      <td>7.238784</td>\n",
       "      <td>0.0</td>\n",
       "      <td>0.002623</td>\n",
       "      <td>758.001416</td>\n",
       "      <td>68.231160</td>\n",
       "      <td>73.626713</td>\n",
       "      <td>4.793458e-13</td>\n",
       "      <td>0.025691</td>\n",
       "    </tr>\n",
       "    <tr>\n",
       "      <th>min</th>\n",
       "      <td>1.000000</td>\n",
       "      <td>2.98500</td>\n",
       "      <td>0.268650</td>\n",
       "      <td>0.060000</td>\n",
       "      <td>0.200000</td>\n",
       "      <td>1.035000</td>\n",
       "      <td>70.000000</td>\n",
       "      <td>2760.0</td>\n",
       "      <td>0.025362</td>\n",
       "      <td>208.950000</td>\n",
       "      <td>18.805500</td>\n",
       "      <td>14.000000</td>\n",
       "      <td>2.865900e+03</td>\n",
       "      <td>0.004885</td>\n",
       "    </tr>\n",
       "    <tr>\n",
       "      <th>25%</th>\n",
       "      <td>22.750000</td>\n",
       "      <td>7.29000</td>\n",
       "      <td>0.634875</td>\n",
       "      <td>0.090000</td>\n",
       "      <td>0.500000</td>\n",
       "      <td>1.192300</td>\n",
       "      <td>72.250000</td>\n",
       "      <td>2760.0</td>\n",
       "      <td>0.026178</td>\n",
       "      <td>585.022500</td>\n",
       "      <td>51.081375</td>\n",
       "      <td>38.125000</td>\n",
       "      <td>2.865900e+03</td>\n",
       "      <td>0.013303</td>\n",
       "    </tr>\n",
       "    <tr>\n",
       "      <th>50%</th>\n",
       "      <td>35.500000</td>\n",
       "      <td>11.60000</td>\n",
       "      <td>0.996300</td>\n",
       "      <td>0.090000</td>\n",
       "      <td>1.000000</td>\n",
       "      <td>1.362500</td>\n",
       "      <td>74.000000</td>\n",
       "      <td>2760.0</td>\n",
       "      <td>0.026812</td>\n",
       "      <td>841.525000</td>\n",
       "      <td>72.207450</td>\n",
       "      <td>71.500000</td>\n",
       "      <td>2.865900e+03</td>\n",
       "      <td>0.024949</td>\n",
       "    </tr>\n",
       "    <tr>\n",
       "      <th>75%</th>\n",
       "      <td>56.000000</td>\n",
       "      <td>14.57500</td>\n",
       "      <td>1.603250</td>\n",
       "      <td>0.110000</td>\n",
       "      <td>1.000000</td>\n",
       "      <td>1.490625</td>\n",
       "      <td>76.250000</td>\n",
       "      <td>2760.0</td>\n",
       "      <td>0.027627</td>\n",
       "      <td>1052.837500</td>\n",
       "      <td>115.812125</td>\n",
       "      <td>73.750000</td>\n",
       "      <td>2.865900e+03</td>\n",
       "      <td>0.025734</td>\n",
       "    </tr>\n",
       "    <tr>\n",
       "      <th>max</th>\n",
       "      <td>115.000000</td>\n",
       "      <td>29.78500</td>\n",
       "      <td>2.680650</td>\n",
       "      <td>0.130000</td>\n",
       "      <td>2.500000</td>\n",
       "      <td>2.182500</td>\n",
       "      <td>94.000000</td>\n",
       "      <td>2760.0</td>\n",
       "      <td>0.034058</td>\n",
       "      <td>2432.250000</td>\n",
       "      <td>218.902500</td>\n",
       "      <td>235.000000</td>\n",
       "      <td>2.865900e+03</td>\n",
       "      <td>0.081999</td>\n",
       "    </tr>\n",
       "  </tbody>\n",
       "</table>\n",
       "</div>"
      ],
      "text/plain": [
       "       Unnamed: 0  Unit Price  Unit Profit  Unit Profit Percentage  \\\n",
       "count   10.000000    10.00000    10.000000               10.000000   \n",
       "mean    44.400000    13.04700     1.230860                0.097000   \n",
       "std     34.696141     8.73234     0.794274                0.018886   \n",
       "min      1.000000     2.98500     0.268650                0.060000   \n",
       "25%     22.750000     7.29000     0.634875                0.090000   \n",
       "50%     35.500000    11.60000     0.996300                0.090000   \n",
       "75%     56.000000    14.57500     1.603250                0.110000   \n",
       "max    115.000000    29.78500     2.680650                0.130000   \n",
       "\n",
       "       Unit Weight(kg)  Price per 100g   Quantity  Total Quantity  \\\n",
       "count        10.000000       10.000000  10.000000            10.0   \n",
       "mean          1.040000        1.421340  76.200000          2760.0   \n",
       "std           0.834266        0.344314   7.238784             0.0   \n",
       "min           0.200000        1.035000  70.000000          2760.0   \n",
       "25%           0.500000        1.192300  72.250000          2760.0   \n",
       "50%           1.000000        1.362500  74.000000          2760.0   \n",
       "75%           1.000000        1.490625  76.250000          2760.0   \n",
       "max           2.500000        2.182500  94.000000          2760.0   \n",
       "\n",
       "       Percent Purchased  Total Unit Sales  Total Unit Profit  \\\n",
       "count          10.000000         10.000000          10.000000   \n",
       "mean            0.027609       1023.324500          96.202925   \n",
       "std             0.002623        758.001416          68.231160   \n",
       "min             0.025362        208.950000          18.805500   \n",
       "25%             0.026178        585.022500          51.081375   \n",
       "50%             0.026812        841.525000          72.207450   \n",
       "75%             0.027627       1052.837500         115.812125   \n",
       "max             0.034058       2432.250000         218.902500   \n",
       "\n",
       "       Total Unit Weight Sold  Total Weight  Percent of Total Weight Shipped  \n",
       "count               10.000000  1.000000e+01                        10.000000  \n",
       "mean                82.480000  2.865900e+03                         0.028780  \n",
       "std                 73.626713  4.793458e-13                         0.025691  \n",
       "min                 14.000000  2.865900e+03                         0.004885  \n",
       "25%                 38.125000  2.865900e+03                         0.013303  \n",
       "50%                 71.500000  2.865900e+03                         0.024949  \n",
       "75%                 73.750000  2.865900e+03                         0.025734  \n",
       "max                235.000000  2.865900e+03                         0.081999  "
      ]
     },
     "execution_count": 8,
     "metadata": {},
     "output_type": "execute_result"
    }
   ],
   "source": [
    "us_prod.describe()"
   ]
  },
  {
   "cell_type": "markdown",
   "id": "737904a2",
   "metadata": {},
   "source": [
    "Median bag weight is 1kg, while mean bag weight is 1.04kg. Total quantity of bags purchased is 2760, while total weight is 2865.9kg"
   ]
  },
  {
   "cell_type": "code",
   "execution_count": 9,
   "id": "b855df00",
   "metadata": {},
   "outputs": [
    {
     "data": {
      "text/plain": [
       "([0, 1, 2, 3, 4, 5, 6, 7, 8, 9], <a list of 10 Text major ticklabel objects>)"
      ]
     },
     "execution_count": 9,
     "metadata": {},
     "output_type": "execute_result"
    },
    {
     "data": {
      "image/png": "[encoded data removed]",
      "text/plain": [
       "<Figure size 640x480 with 1 Axes>"
      ]
     },
     "metadata": {},
     "output_type": "display_data"
    }
   ],
   "source": [
    "plt.bar(us_prod['Product ID'], us_prod['Percent Purchased'])\n",
    "plt.xticks(rotation=90)"
   ]
  },
  {
   "cell_type": "markdown",
   "id": "f6c1189e",
   "metadata": {},
   "source": [
    "Medium Roast Arabica coffee appears to be the most popular coffee and roast type purchased in the U.S. as it occupies the number 1, 2 and 9 spot of top 10 in percent purchased coffee. Particulary, the 2.5kg and .5kg products are the most purchased in the U.S."
   ]
  },
  {
   "cell_type": "code",
   "execution_count": 10,
   "id": "e157a511",
   "metadata": {},
   "outputs": [
    {
     "data": {
      "text/plain": [
       "([0, 1, 2, 3, 4, 5, 6, 7, 8, 9], <a list of 10 Text major ticklabel objects>)"
      ]
     },
     "execution_count": 10,
     "metadata": {},
     "output_type": "execute_result"
    },
    {
     "data": {
      "image/png": "[encoded data removed]",
      "text/plain": [
       "<Figure size 640x480 with 1 Axes>"
      ]
     },
     "metadata": {},
     "output_type": "display_data"
    }
   ],
   "source": [
    "plt.bar(us_prod['Product ID'], us_prod['Total Unit Profit'])\n",
    "plt.xticks(rotation=90)\n"
   ]
  },
  {
   "cell_type": "markdown",
   "id": "a8924571",
   "metadata": {},
   "source": [
    "The total profits gained by product appears to be motly determined by product size. The larger the product, the more total profit gained."
   ]
  },
  {
   "cell_type": "code",
   "execution_count": 11,
   "id": "887cb9ac",
   "metadata": {},
   "outputs": [
    {
     "data": {
      "text/plain": [
       "([0, 1, 2, 3, 4, 5, 6, 7, 8, 9], <a list of 10 Text major ticklabel objects>)"
      ]
     },
     "execution_count": 11,
     "metadata": {},
     "output_type": "execute_result"
    },
    {
     "data": {
      "image/png": "[encoded data removed]",
      "text/plain": [
       "<Figure size 640x480 with 1 Axes>"
      ]
     },
     "metadata": {},
     "output_type": "display_data"
    }
   ],
   "source": [
    "plt.bar(us_prod['Product ID'], us_prod['Unit Price'])\n",
    "plt.xticks(rotation=90)"
   ]
  },
  {
   "cell_type": "markdown",
   "id": "34aa6e55",
   "metadata": {},
   "source": [
    "The inidividual price per product similarly is determined by product size. This graph and the total profit graphs are incredibly similar in their appearance, hinting at a strong correlation between the two. "
   ]
  },
  {
   "cell_type": "code",
   "execution_count": 12,
   "id": "0e9eb54d",
   "metadata": {},
   "outputs": [
    {
     "data": {
      "text/plain": [
       "([0, 1, 2, 3, 4, 5, 6, 7, 8, 9], <a list of 10 Text major ticklabel objects>)"
      ]
     },
     "execution_count": 12,
     "metadata": {},
     "output_type": "execute_result"
    },
    {
     "data": {
      "image/png": "[encoded data removed]",
      "text/plain": [
       "<Figure size 640x480 with 1 Axes>"
      ]
     },
     "metadata": {},
     "output_type": "display_data"
    }
   ],
   "source": [
    "plt.bar(us_prod['Product ID'], us_prod['Price per 100g'])\n",
    "plt.xticks(rotation=90)"
   ]
  },
  {
   "cell_type": "markdown",
   "id": "bb599b9d",
   "metadata": {},
   "source": [
    "Conversely, Price per 100g is higher the lower the product size. Coffee type does also play a role here, with product R-L-1 costing the same per 100g as A-L-2.5. Possible reasons for this is that labor costs don't get more expensive while filling larger bags and additionally the need for more bags at the smaller size are likely driving costs up. Shipping costs may also play a role as the initial cost to ship, especially internationally, is high and shipping in bulk may be more cost effective."
   ]
  },
  {
   "cell_type": "code",
   "execution_count": null,
   "id": "6062c31c",
   "metadata": {},
   "outputs": [],
   "source": []
  },
  {
   "cell_type": "code",
   "execution_count": 13,
   "id": "57098adc",
   "metadata": {},
   "outputs": [
    {
     "data": {
      "text/plain": [
       "([0, 1, 2, 3, 4, 5, 6, 7, 8, 9], <a list of 10 Text major ticklabel objects>)"
      ]
     },
     "execution_count": 13,
     "metadata": {},
     "output_type": "execute_result"
    },
    {
     "data": {
      "image/png": "[encoded data removed]",
      "text/plain": [
       "<Figure size 640x480 with 1 Axes>"
      ]
     },
     "metadata": {},
     "output_type": "display_data"
    }
   ],
   "source": [
    "plt.bar(us_prod['Product ID'], us_prod['Unit Profit Percentage'])\n",
    "plt.xticks(rotation=90)"
   ]
  },
  {
   "cell_type": "markdown",
   "id": "f5b6db01",
   "metadata": {},
   "source": [
    "As weight goes up, price per 100g goes down, relative to each coffee and roast type. Profit percentage is set by coffee type rather than roast or weight.\n",
    "\n",
    "Prouct L-M-0.2 is the most profitable and 5th most purchased in the U.S."
   ]
  },
  {
   "cell_type": "markdown",
   "id": "b5e9f4b0",
   "metadata": {},
   "source": [
    "### Ireland"
   ]
  },
  {
   "cell_type": "code",
   "execution_count": 14,
   "id": "d39d9694",
   "metadata": {},
   "outputs": [
    {
     "data": {
      "text/html": [
       "<div>\n",
       "<style scoped>\n",
       "    .dataframe tbody tr th:only-of-type {\n",
       "        vertical-align: middle;\n",
       "    }\n",
       "\n",
       "    .dataframe tbody tr th {\n",
       "        vertical-align: top;\n",
       "    }\n",
       "\n",
       "    .dataframe thead th {\n",
       "        text-align: right;\n",
       "    }\n",
       "</style>\n",
       "<table border=\"1\" class=\"dataframe\">\n",
       "  <thead>\n",
       "    <tr style=\"text-align: right;\">\n",
       "      <th></th>\n",
       "      <th>Unnamed: 0</th>\n",
       "      <th>Unit Price</th>\n",
       "      <th>Unit Profit</th>\n",
       "      <th>Unit Profit Percentage</th>\n",
       "      <th>Unit Weight(kg)</th>\n",
       "      <th>Price per 100g</th>\n",
       "      <th>Quantity</th>\n",
       "      <th>Total Quantity</th>\n",
       "      <th>Percent Purchased</th>\n",
       "      <th>Total Unit Sales</th>\n",
       "      <th>Total Unit Profit</th>\n",
       "      <th>Total Unit Weight Sold</th>\n",
       "      <th>Total Weight</th>\n",
       "      <th>Percent of Total Weight Shipped</th>\n",
       "    </tr>\n",
       "  </thead>\n",
       "  <tbody>\n",
       "    <tr>\n",
       "      <th>count</th>\n",
       "      <td>10.000</td>\n",
       "      <td>10.000000</td>\n",
       "      <td>10.000000</td>\n",
       "      <td>10.000000</td>\n",
       "      <td>10.000000</td>\n",
       "      <td>10.000000</td>\n",
       "      <td>10.00000</td>\n",
       "      <td>10.0</td>\n",
       "      <td>10.000000</td>\n",
       "      <td>10.000000</td>\n",
       "      <td>10.000000</td>\n",
       "      <td>10.000000</td>\n",
       "      <td>10.0</td>\n",
       "      <td>10.000000</td>\n",
       "    </tr>\n",
       "    <tr>\n",
       "      <th>mean</th>\n",
       "      <td>64.800</td>\n",
       "      <td>12.149500</td>\n",
       "      <td>1.093405</td>\n",
       "      <td>0.088000</td>\n",
       "      <td>1.080000</td>\n",
       "      <td>1.383520</td>\n",
       "      <td>22.40000</td>\n",
       "      <td>537.0</td>\n",
       "      <td>0.041713</td>\n",
       "      <td>263.887500</td>\n",
       "      <td>24.198045</td>\n",
       "      <td>23.550000</td>\n",
       "      <td>544.3</td>\n",
       "      <td>0.043267</td>\n",
       "    </tr>\n",
       "    <tr>\n",
       "      <th>std</th>\n",
       "      <td>44.304</td>\n",
       "      <td>10.224191</td>\n",
       "      <td>1.094534</td>\n",
       "      <td>0.028206</td>\n",
       "      <td>1.027186</td>\n",
       "      <td>0.431234</td>\n",
       "      <td>4.40202</td>\n",
       "      <td>0.0</td>\n",
       "      <td>0.008197</td>\n",
       "      <td>224.220042</td>\n",
       "      <td>26.058917</td>\n",
       "      <td>23.350815</td>\n",
       "      <td>0.0</td>\n",
       "      <td>0.042901</td>\n",
       "    </tr>\n",
       "    <tr>\n",
       "      <th>min</th>\n",
       "      <td>0.000</td>\n",
       "      <td>2.685000</td>\n",
       "      <td>0.161100</td>\n",
       "      <td>0.060000</td>\n",
       "      <td>0.200000</td>\n",
       "      <td>0.823400</td>\n",
       "      <td>16.00000</td>\n",
       "      <td>537.0</td>\n",
       "      <td>0.029795</td>\n",
       "      <td>48.330000</td>\n",
       "      <td>2.899800</td>\n",
       "      <td>3.600000</td>\n",
       "      <td>544.3</td>\n",
       "      <td>0.006614</td>\n",
       "    </tr>\n",
       "    <tr>\n",
       "      <th>25%</th>\n",
       "      <td>27.000</td>\n",
       "      <td>3.802500</td>\n",
       "      <td>0.324000</td>\n",
       "      <td>0.060000</td>\n",
       "      <td>0.200000</td>\n",
       "      <td>1.105800</td>\n",
       "      <td>19.25000</td>\n",
       "      <td>537.0</td>\n",
       "      <td>0.035847</td>\n",
       "      <td>93.712500</td>\n",
       "      <td>7.890413</td>\n",
       "      <td>5.550000</td>\n",
       "      <td>544.3</td>\n",
       "      <td>0.010197</td>\n",
       "    </tr>\n",
       "    <tr>\n",
       "      <th>50%</th>\n",
       "      <td>79.000</td>\n",
       "      <td>9.340000</td>\n",
       "      <td>0.954000</td>\n",
       "      <td>0.090000</td>\n",
       "      <td>0.750000</td>\n",
       "      <td>1.266950</td>\n",
       "      <td>22.00000</td>\n",
       "      <td>537.0</td>\n",
       "      <td>0.040968</td>\n",
       "      <td>204.870000</td>\n",
       "      <td>19.021500</td>\n",
       "      <td>15.250000</td>\n",
       "      <td>544.3</td>\n",
       "      <td>0.028018</td>\n",
       "    </tr>\n",
       "    <tr>\n",
       "      <th>75%</th>\n",
       "      <td>102.000</td>\n",
       "      <td>18.251250</td>\n",
       "      <td>1.210050</td>\n",
       "      <td>0.105000</td>\n",
       "      <td>2.125000</td>\n",
       "      <td>1.682625</td>\n",
       "      <td>25.50000</td>\n",
       "      <td>537.0</td>\n",
       "      <td>0.047486</td>\n",
       "      <td>383.257500</td>\n",
       "      <td>26.314875</td>\n",
       "      <td>35.250000</td>\n",
       "      <td>544.3</td>\n",
       "      <td>0.064762</td>\n",
       "    </tr>\n",
       "    <tr>\n",
       "      <th>max</th>\n",
       "      <td>116.000</td>\n",
       "      <td>29.785000</td>\n",
       "      <td>3.872050</td>\n",
       "      <td>0.130000</td>\n",
       "      <td>2.500000</td>\n",
       "      <td>2.227500</td>\n",
       "      <td>30.00000</td>\n",
       "      <td>537.0</td>\n",
       "      <td>0.055866</td>\n",
       "      <td>714.840000</td>\n",
       "      <td>92.929200</td>\n",
       "      <td>65.000000</td>\n",
       "      <td>544.3</td>\n",
       "      <td>0.119419</td>\n",
       "    </tr>\n",
       "  </tbody>\n",
       "</table>\n",
       "</div>"
      ],
      "text/plain": [
       "       Unnamed: 0  Unit Price  Unit Profit  Unit Profit Percentage  \\\n",
       "count      10.000   10.000000    10.000000               10.000000   \n",
       "mean       64.800   12.149500     1.093405                0.088000   \n",
       "std        44.304   10.224191     1.094534                0.028206   \n",
       "min         0.000    2.685000     0.161100                0.060000   \n",
       "25%        27.000    3.802500     0.324000                0.060000   \n",
       "50%        79.000    9.340000     0.954000                0.090000   \n",
       "75%       102.000   18.251250     1.210050                0.105000   \n",
       "max       116.000   29.785000     3.872050                0.130000   \n",
       "\n",
       "       Unit Weight(kg)  Price per 100g  Quantity  Total Quantity  \\\n",
       "count        10.000000       10.000000  10.00000            10.0   \n",
       "mean          1.080000        1.383520  22.40000           537.0   \n",
       "std           1.027186        0.431234   4.40202             0.0   \n",
       "min           0.200000        0.823400  16.00000           537.0   \n",
       "25%           0.200000        1.105800  19.25000           537.0   \n",
       "50%           0.750000        1.266950  22.00000           537.0   \n",
       "75%           2.125000        1.682625  25.50000           537.0   \n",
       "max           2.500000        2.227500  30.00000           537.0   \n",
       "\n",
       "       Percent Purchased  Total Unit Sales  Total Unit Profit  \\\n",
       "count          10.000000         10.000000          10.000000   \n",
       "mean            0.041713        263.887500          24.198045   \n",
       "std             0.008197        224.220042          26.058917   \n",
       "min             0.029795         48.330000           2.899800   \n",
       "25%             0.035847         93.712500           7.890413   \n",
       "50%             0.040968        204.870000          19.021500   \n",
       "75%             0.047486        383.257500          26.314875   \n",
       "max             0.055866        714.840000          92.929200   \n",
       "\n",
       "       Total Unit Weight Sold  Total Weight  Percent of Total Weight Shipped  \n",
       "count               10.000000          10.0                        10.000000  \n",
       "mean                23.550000         544.3                         0.043267  \n",
       "std                 23.350815           0.0                         0.042901  \n",
       "min                  3.600000         544.3                         0.006614  \n",
       "25%                  5.550000         544.3                         0.010197  \n",
       "50%                 15.250000         544.3                         0.028018  \n",
       "75%                 35.250000         544.3                         0.064762  \n",
       "max                 65.000000         544.3                         0.119419  "
      ]
     },
     "execution_count": 14,
     "metadata": {},
     "output_type": "execute_result"
    }
   ],
   "source": [
    "ireland_prod.describe()"
   ]
  },
  {
   "cell_type": "markdown",
   "id": "53f409f0",
   "metadata": {},
   "source": [
    "Median weight is .75kg, between .5kg and 1kg bags. Mean weight is 1.08kg. Total bags purchased is 537 with a total weight of 544.3kg. "
   ]
  },
  {
   "cell_type": "code",
   "execution_count": 15,
   "id": "fd0a46f6",
   "metadata": {},
   "outputs": [
    {
     "data": {
      "text/plain": [
       "([0, 1, 2, 3, 4, 5, 6, 7, 8, 9], <a list of 10 Text major ticklabel objects>)"
      ]
     },
     "execution_count": 15,
     "metadata": {},
     "output_type": "execute_result"
    },
    {
     "data": {
      "image/png": "[encoded data removed]",
      "text/plain": [
       "<Figure size 640x480 with 1 Axes>"
      ]
     },
     "metadata": {},
     "output_type": "display_data"
    }
   ],
   "source": [
    "plt.bar(ireland_prod['Product ID'], ireland_prod['Percent Purchased'])\n",
    "plt.xticks(rotation=90)"
   ]
  },
  {
   "cell_type": "markdown",
   "id": "c7877c7f",
   "metadata": {},
   "source": [
    "The most purchased product in Ireland is a light roast Robusta .2kg bag, followed by an dark roast Arabica .2kg bag. "
   ]
  },
  {
   "cell_type": "code",
   "execution_count": null,
   "id": "2fc678a2",
   "metadata": {},
   "outputs": [],
   "source": []
  },
  {
   "cell_type": "code",
   "execution_count": 16,
   "id": "2fbe9686",
   "metadata": {},
   "outputs": [
    {
     "data": {
      "text/plain": [
       "([0, 1, 2, 3, 4, 5, 6, 7, 8, 9], <a list of 10 Text major ticklabel objects>)"
      ]
     },
     "execution_count": 16,
     "metadata": {},
     "output_type": "execute_result"
    },
    {
     "data": {
      "image/png": "[encoded data removed]",
      "text/plain": [
       "<Figure size 640x480 with 1 Axes>"
      ]
     },
     "metadata": {},
     "output_type": "display_data"
    }
   ],
   "source": [
    "plt.bar(ireland_prod['Product ID'], ireland_prod['Total Unit Profit'])\n",
    "plt.xticks(rotation=90)"
   ]
  },
  {
   "cell_type": "markdown",
   "id": "5d883b77",
   "metadata": {},
   "source": [
    "The dark roast liberica 2.5kg bag is far and away bringing in the most total profit."
   ]
  },
  {
   "cell_type": "code",
   "execution_count": 17,
   "id": "4647afd4",
   "metadata": {},
   "outputs": [
    {
     "data": {
      "text/plain": [
       "([0, 1, 2, 3, 4, 5, 6, 7, 8, 9], <a list of 10 Text major ticklabel objects>)"
      ]
     },
     "execution_count": 17,
     "metadata": {},
     "output_type": "execute_result"
    },
    {
     "data": {
      "image/png": "[encoded data removed]",
      "text/plain": [
       "<Figure size 640x480 with 1 Axes>"
      ]
     },
     "metadata": {},
     "output_type": "display_data"
    }
   ],
   "source": [
    "plt.bar(ireland_prod['Product ID'], ireland_prod['Unit Price'])\n",
    "plt.xticks(rotation=90)"
   ]
  },
  {
   "cell_type": "markdown",
   "id": "89501c2c",
   "metadata": {},
   "source": [
    "Pricing again is influenced heavily by weight, with 2.5kg products costing the most and .2kg products costing the least"
   ]
  },
  {
   "cell_type": "code",
   "execution_count": 18,
   "id": "7e541cb0",
   "metadata": {},
   "outputs": [
    {
     "data": {
      "text/plain": [
       "([0, 1, 2, 3, 4, 5, 6, 7, 8, 9], <a list of 10 Text major ticklabel objects>)"
      ]
     },
     "execution_count": 18,
     "metadata": {},
     "output_type": "execute_result"
    },
    {
     "data": {
      "image/png": "[encoded data removed]",
      "text/plain": [
       "<Figure size 640x480 with 1 Axes>"
      ]
     },
     "metadata": {},
     "output_type": "display_data"
    }
   ],
   "source": [
    "plt.bar(ireland_prod['Product ID'], ireland_prod['Price per 100g'])\n",
    "plt.xticks(rotation=90)"
   ]
  },
  {
   "cell_type": "markdown",
   "id": "f5ef82dd",
   "metadata": {},
   "source": [
    "Price per 100g is inverted, where .2kg bags typically cost the most and 2.5kg bags cost the least. However, disparity amongst coffee type is more apparent here, with Liberica products costing more despite having a larger bag size."
   ]
  },
  {
   "cell_type": "code",
   "execution_count": 19,
   "id": "71adb629",
   "metadata": {},
   "outputs": [
    {
     "data": {
      "text/plain": [
       "([0, 1, 2, 3, 4, 5, 6, 7, 8, 9], <a list of 10 Text major ticklabel objects>)"
      ]
     },
     "execution_count": 19,
     "metadata": {},
     "output_type": "execute_result"
    },
    {
     "data": {
      "image/png": "[encoded data removed]",
      "text/plain": [
       "<Figure size 640x480 with 1 Axes>"
      ]
     },
     "metadata": {},
     "output_type": "display_data"
    }
   ],
   "source": [
    "plt.bar(ireland_prod['Product ID'], ireland_prod['Unit Profit Percentage'])\n",
    "plt.xticks(rotation=90)"
   ]
  },
  {
   "cell_type": "markdown",
   "id": "b3c35928",
   "metadata": {},
   "source": [
    "Profit percentage is solely based on Coffee type, with Liberica at 13%, Excelsa at 11%, Arabica at 9%, and Robusta at 6%, the same as the United States"
   ]
  },
  {
   "cell_type": "markdown",
   "id": "25e5cb08",
   "metadata": {},
   "source": [
    "### United Kingdom"
   ]
  },
  {
   "cell_type": "code",
   "execution_count": 20,
   "id": "b1172ed3",
   "metadata": {},
   "outputs": [
    {
     "data": {
      "text/html": [
       "<div>\n",
       "<style scoped>\n",
       "    .dataframe tbody tr th:only-of-type {\n",
       "        vertical-align: middle;\n",
       "    }\n",
       "\n",
       "    .dataframe tbody tr th {\n",
       "        vertical-align: top;\n",
       "    }\n",
       "\n",
       "    .dataframe thead th {\n",
       "        text-align: right;\n",
       "    }\n",
       "</style>\n",
       "<table border=\"1\" class=\"dataframe\">\n",
       "  <thead>\n",
       "    <tr style=\"text-align: right;\">\n",
       "      <th></th>\n",
       "      <th>Unnamed: 0</th>\n",
       "      <th>Unit Price</th>\n",
       "      <th>Unit Profit</th>\n",
       "      <th>Unit Profit Percentage</th>\n",
       "      <th>Unit Weight(kg)</th>\n",
       "      <th>Price per 100g</th>\n",
       "      <th>Quantity</th>\n",
       "      <th>Total Quantity</th>\n",
       "      <th>Percent Purchased</th>\n",
       "      <th>Total Unit Sales</th>\n",
       "      <th>Total Unit Profit</th>\n",
       "      <th>Total Unit Weight Sold</th>\n",
       "      <th>Total Weight</th>\n",
       "      <th>Percent of Total Weight Shipped</th>\n",
       "    </tr>\n",
       "  </thead>\n",
       "  <tbody>\n",
       "    <tr>\n",
       "      <th>count</th>\n",
       "      <td>10.000000</td>\n",
       "      <td>10.000000</td>\n",
       "      <td>10.000000</td>\n",
       "      <td>10.000000</td>\n",
       "      <td>10.000000</td>\n",
       "      <td>10.000000</td>\n",
       "      <td>10.000000</td>\n",
       "      <td>10.0</td>\n",
       "      <td>10.000000</td>\n",
       "      <td>10.000000</td>\n",
       "      <td>10.000000</td>\n",
       "      <td>10.000000</td>\n",
       "      <td>10.0</td>\n",
       "      <td>10.000000</td>\n",
       "    </tr>\n",
       "    <tr>\n",
       "      <th>mean</th>\n",
       "      <td>80.700000</td>\n",
       "      <td>8.849000</td>\n",
       "      <td>0.871485</td>\n",
       "      <td>0.094000</td>\n",
       "      <td>0.660000</td>\n",
       "      <td>1.570130</td>\n",
       "      <td>12.200000</td>\n",
       "      <td>254.0</td>\n",
       "      <td>0.048031</td>\n",
       "      <td>102.159000</td>\n",
       "      <td>10.031820</td>\n",
       "      <td>7.500000</td>\n",
       "      <td>217.2</td>\n",
       "      <td>0.034530</td>\n",
       "    </tr>\n",
       "    <tr>\n",
       "      <th>std</th>\n",
       "      <td>33.256745</td>\n",
       "      <td>7.105754</td>\n",
       "      <td>0.830676</td>\n",
       "      <td>0.030258</td>\n",
       "      <td>0.688315</td>\n",
       "      <td>0.437629</td>\n",
       "      <td>2.529822</td>\n",
       "      <td>0.0</td>\n",
       "      <td>0.009960</td>\n",
       "      <td>68.310948</td>\n",
       "      <td>8.141182</td>\n",
       "      <td>6.799346</td>\n",
       "      <td>0.0</td>\n",
       "      <td>0.031305</td>\n",
       "    </tr>\n",
       "    <tr>\n",
       "      <th>min</th>\n",
       "      <td>37.000000</td>\n",
       "      <td>2.685000</td>\n",
       "      <td>0.161100</td>\n",
       "      <td>0.060000</td>\n",
       "      <td>0.200000</td>\n",
       "      <td>0.995000</td>\n",
       "      <td>9.000000</td>\n",
       "      <td>254.0</td>\n",
       "      <td>0.035433</td>\n",
       "      <td>26.850000</td>\n",
       "      <td>1.611000</td>\n",
       "      <td>2.000000</td>\n",
       "      <td>217.2</td>\n",
       "      <td>0.009208</td>\n",
       "    </tr>\n",
       "    <tr>\n",
       "      <th>25%</th>\n",
       "      <td>52.750000</td>\n",
       "      <td>5.058750</td>\n",
       "      <td>0.436087</td>\n",
       "      <td>0.060000</td>\n",
       "      <td>0.275000</td>\n",
       "      <td>1.231125</td>\n",
       "      <td>10.000000</td>\n",
       "      <td>254.0</td>\n",
       "      <td>0.039370</td>\n",
       "      <td>72.337500</td>\n",
       "      <td>5.886525</td>\n",
       "      <td>3.525000</td>\n",
       "      <td>217.2</td>\n",
       "      <td>0.016229</td>\n",
       "    </tr>\n",
       "    <tr>\n",
       "      <th>50%</th>\n",
       "      <td>81.500000</td>\n",
       "      <td>7.710000</td>\n",
       "      <td>0.607575</td>\n",
       "      <td>0.110000</td>\n",
       "      <td>0.500000</td>\n",
       "      <td>1.542000</td>\n",
       "      <td>12.000000</td>\n",
       "      <td>254.0</td>\n",
       "      <td>0.047244</td>\n",
       "      <td>85.800000</td>\n",
       "      <td>7.665750</td>\n",
       "      <td>5.500000</td>\n",
       "      <td>217.2</td>\n",
       "      <td>0.025322</td>\n",
       "    </tr>\n",
       "    <tr>\n",
       "      <th>75%</th>\n",
       "      <td>107.500000</td>\n",
       "      <td>8.865000</td>\n",
       "      <td>0.961950</td>\n",
       "      <td>0.110000</td>\n",
       "      <td>0.500000</td>\n",
       "      <td>1.773000</td>\n",
       "      <td>13.750000</td>\n",
       "      <td>254.0</td>\n",
       "      <td>0.054134</td>\n",
       "      <td>113.062500</td>\n",
       "      <td>12.028575</td>\n",
       "      <td>7.625000</td>\n",
       "      <td>217.2</td>\n",
       "      <td>0.035106</td>\n",
       "    </tr>\n",
       "    <tr>\n",
       "      <th>max</th>\n",
       "      <td>126.000000</td>\n",
       "      <td>27.945000</td>\n",
       "      <td>3.073950</td>\n",
       "      <td>0.130000</td>\n",
       "      <td>2.500000</td>\n",
       "      <td>2.377500</td>\n",
       "      <td>16.000000</td>\n",
       "      <td>254.0</td>\n",
       "      <td>0.062992</td>\n",
       "      <td>279.450000</td>\n",
       "      <td>30.739500</td>\n",
       "      <td>25.000000</td>\n",
       "      <td>217.2</td>\n",
       "      <td>0.115101</td>\n",
       "    </tr>\n",
       "  </tbody>\n",
       "</table>\n",
       "</div>"
      ],
      "text/plain": [
       "       Unnamed: 0  Unit Price  Unit Profit  Unit Profit Percentage  \\\n",
       "count   10.000000   10.000000    10.000000               10.000000   \n",
       "mean    80.700000    8.849000     0.871485                0.094000   \n",
       "std     33.256745    7.105754     0.830676                0.030258   \n",
       "min     37.000000    2.685000     0.161100                0.060000   \n",
       "25%     52.750000    5.058750     0.436087                0.060000   \n",
       "50%     81.500000    7.710000     0.607575                0.110000   \n",
       "75%    107.500000    8.865000     0.961950                0.110000   \n",
       "max    126.000000   27.945000     3.073950                0.130000   \n",
       "\n",
       "       Unit Weight(kg)  Price per 100g   Quantity  Total Quantity  \\\n",
       "count        10.000000       10.000000  10.000000            10.0   \n",
       "mean          0.660000        1.570130  12.200000           254.0   \n",
       "std           0.688315        0.437629   2.529822             0.0   \n",
       "min           0.200000        0.995000   9.000000           254.0   \n",
       "25%           0.275000        1.231125  10.000000           254.0   \n",
       "50%           0.500000        1.542000  12.000000           254.0   \n",
       "75%           0.500000        1.773000  13.750000           254.0   \n",
       "max           2.500000        2.377500  16.000000           254.0   \n",
       "\n",
       "       Percent Purchased  Total Unit Sales  Total Unit Profit  \\\n",
       "count          10.000000         10.000000          10.000000   \n",
       "mean            0.048031        102.159000          10.031820   \n",
       "std             0.009960         68.310948           8.141182   \n",
       "min             0.035433         26.850000           1.611000   \n",
       "25%             0.039370         72.337500           5.886525   \n",
       "50%             0.047244         85.800000           7.665750   \n",
       "75%             0.054134        113.062500          12.028575   \n",
       "max             0.062992        279.450000          30.739500   \n",
       "\n",
       "       Total Unit Weight Sold  Total Weight  Percent of Total Weight Shipped  \n",
       "count               10.000000          10.0                        10.000000  \n",
       "mean                 7.500000         217.2                         0.034530  \n",
       "std                  6.799346           0.0                         0.031305  \n",
       "min                  2.000000         217.2                         0.009208  \n",
       "25%                  3.525000         217.2                         0.016229  \n",
       "50%                  5.500000         217.2                         0.025322  \n",
       "75%                  7.625000         217.2                         0.035106  \n",
       "max                 25.000000         217.2                         0.115101  "
      ]
     },
     "execution_count": 20,
     "metadata": {},
     "output_type": "execute_result"
    }
   ],
   "source": [
    "uk_prod.describe()"
   ]
  },
  {
   "cell_type": "markdown",
   "id": "591ec9ed",
   "metadata": {},
   "source": [
    "Median weight is .5kg, while  mean weight is .66kg. Total bags purchased is 254, weighing 217.2kg"
   ]
  },
  {
   "cell_type": "code",
   "execution_count": 21,
   "id": "72784497",
   "metadata": {},
   "outputs": [
    {
     "data": {
      "text/plain": [
       "([0, 1, 2, 3, 4, 5, 6, 7, 8, 9], <a list of 10 Text major ticklabel objects>)"
      ]
     },
     "execution_count": 21,
     "metadata": {},
     "output_type": "execute_result"
    },
    {
     "data": {
      "image/png": "[encoded data removed]",
      "text/plain": [
       "<Figure size 640x480 with 1 Axes>"
      ]
     },
     "metadata": {},
     "output_type": "display_data"
    }
   ],
   "source": [
    "plt.bar(uk_prod['Product ID'], uk_prod['Percent Purchased'])\n",
    "plt.xticks(rotation=90)"
   ]
  },
  {
   "cell_type": "markdown",
   "id": "6e98e679",
   "metadata": {},
   "source": [
    "The medium roast robusta .5kg bag was teh most purchased followed by the Light roast liberica .2kg bag. The most popular products in the uk tend to be the smaller bag sizes."
   ]
  },
  {
   "cell_type": "code",
   "execution_count": 22,
   "id": "1bd1a532",
   "metadata": {},
   "outputs": [
    {
     "data": {
      "text/plain": [
       "([0, 1, 2, 3, 4, 5, 6, 7, 8, 9], <a list of 10 Text major ticklabel objects>)"
      ]
     },
     "execution_count": 22,
     "metadata": {},
     "output_type": "execute_result"
    },
    {
     "data": {
      "image/png": "[encoded data removed]",
      "text/plain": [
       "<Figure size 640x480 with 1 Axes>"
      ]
     },
     "metadata": {},
     "output_type": "display_data"
    }
   ],
   "source": [
    "plt.bar(uk_prod['Product ID'], uk_prod['Total Unit Profit'])\n",
    "plt.xticks(rotation=90)"
   ]
  },
  {
   "cell_type": "markdown",
   "id": "e6042a46",
   "metadata": {},
   "source": [
    "The dark roast Excelsa 2.5kg bag brought in the most profit by more than double the next product."
   ]
  },
  {
   "cell_type": "code",
   "execution_count": 23,
   "id": "649cbf01",
   "metadata": {},
   "outputs": [
    {
     "data": {
      "text/plain": [
       "([0, 1, 2, 3, 4, 5, 6, 7, 8, 9], <a list of 10 Text major ticklabel objects>)"
      ]
     },
     "execution_count": 23,
     "metadata": {},
     "output_type": "execute_result"
    },
    {
     "data": {
      "image/png": "[encoded data removed]",
      "text/plain": [
       "<Figure size 640x480 with 1 Axes>"
      ]
     },
     "metadata": {},
     "output_type": "display_data"
    }
   ],
   "source": [
    "plt.bar(uk_prod['Product ID'], uk_prod['Unit Price'])\n",
    "plt.xticks(rotation=90)"
   ]
  },
  {
   "cell_type": "markdown",
   "id": "b2efc0ed",
   "metadata": {},
   "source": [
    "Likewise, the Ecelsa 2.5kg bag was more expensive than the rest by more than double."
   ]
  },
  {
   "cell_type": "code",
   "execution_count": 24,
   "id": "c11ed838",
   "metadata": {},
   "outputs": [
    {
     "data": {
      "text/plain": [
       "([0, 1, 2, 3, 4, 5, 6, 7, 8, 9], <a list of 10 Text major ticklabel objects>)"
      ]
     },
     "execution_count": 24,
     "metadata": {},
     "output_type": "execute_result"
    },
    {
     "data": {
      "image/png": "[encoded data removed]",
      "text/plain": [
       "<Figure size 640x480 with 1 Axes>"
      ]
     },
     "metadata": {},
     "output_type": "display_data"
    }
   ],
   "source": [
    "plt.bar(uk_prod['Product ID'], uk_prod['Price per 100g'])\n",
    "plt.xticks(rotation=90)"
   ]
  },
  {
   "cell_type": "markdown",
   "id": "6e39a8fe",
   "metadata": {},
   "source": [
    "The light roast liberica .2kg bag was the most expensive per 100g while the dark roast Excelsa 2.5kg bag was the cheapest per 100g"
   ]
  },
  {
   "cell_type": "markdown",
   "id": "d846fab5",
   "metadata": {},
   "source": [
    "### Time Series"
   ]
  },
  {
   "cell_type": "markdown",
   "id": "28402921",
   "metadata": {},
   "source": [
    "I want to explore the potential seasonality of coffee sales and break it down by different categories to gain insight."
   ]
  },
  {
   "cell_type": "code",
   "execution_count": 25,
   "id": "44d66a37",
   "metadata": {},
   "outputs": [
    {
     "name": "stdout",
     "output_type": "stream",
     "text": [
      "<class 'pandas.core.frame.DataFrame'>\n",
      "RangeIndex: 1000 entries, 0 to 999\n",
      "Data columns (total 20 columns):\n",
      " #   Column                  Non-Null Count  Dtype  \n",
      "---  ------                  --------------  -----  \n",
      " 0   Unnamed: 0              1000 non-null   int64  \n",
      " 1   Order ID                1000 non-null   object \n",
      " 2   Order Date              1000 non-null   object \n",
      " 3   Customer ID             1000 non-null   object \n",
      " 4   Product ID              1000 non-null   object \n",
      " 5   Quantity                1000 non-null   float64\n",
      " 6   Sales                   1000 non-null   float64\n",
      " 7   Coffee Type             1000 non-null   object \n",
      " 8   Roast Type              1000 non-null   object \n",
      " 9   Unit Weight(kg)         1000 non-null   float64\n",
      " 10  Unit Price              1000 non-null   float64\n",
      " 11  Price per 100g          1000 non-null   float64\n",
      " 12  Unit Profit             1000 non-null   float64\n",
      " 13  Address Line 1          1000 non-null   object \n",
      " 14  City                    1000 non-null   object \n",
      " 15  Country                 1000 non-null   object \n",
      " 16  Postcode                1000 non-null   object \n",
      " 17  Loyalty Card            1000 non-null   object \n",
      " 18  Order Profit            1000 non-null   float64\n",
      " 19  Unit Profit Percentage  1000 non-null   float64\n",
      "dtypes: float64(8), int64(1), object(11)\n",
      "memory usage: 156.4+ KB\n"
     ]
    }
   ],
   "source": [
    "coffee_df.info()"
   ]
  },
  {
   "cell_type": "code",
   "execution_count": 26,
   "id": "9425b2f3",
   "metadata": {},
   "outputs": [],
   "source": [
    "coffee_df['Order Date'] = pd.to_datetime(coffee_df['Order Date'])\n",
    "monthly_sales_df= coffee_df.groupby(coffee_df['Order Date'].dt.to_period('M'))['Sales'].sum().reset_index()"
   ]
  },
  {
   "cell_type": "code",
   "execution_count": 31,
   "id": "4dfec988",
   "metadata": {},
   "outputs": [
    {
     "name": "stdout",
     "output_type": "stream",
     "text": [
      "<class 'pandas.core.frame.DataFrame'>\n",
      "RangeIndex: 44 entries, 0 to 43\n",
      "Data columns (total 2 columns):\n",
      " #   Column      Non-Null Count  Dtype    \n",
      "---  ------      --------------  -----    \n",
      " 0   Order Date  44 non-null     period[M]\n",
      " 1   Sales       44 non-null     float64  \n",
      "dtypes: float64(1), period[M](1)\n",
      "memory usage: 832.0 bytes\n"
     ]
    }
   ],
   "source": [
    "monthly_sales_df.info()"
   ]
  },
  {
   "cell_type": "code",
   "execution_count": 33,
   "id": "6ef86b3a",
   "metadata": {},
   "outputs": [
    {
     "ename": "AttributeError",
     "evalue": "module 'pandas' has no attribute 'to_timestamp'",
     "output_type": "error",
     "traceback": [
      "\u001b[0;31m---------------------------------------------------------------------------\u001b[0m",
      "\u001b[0;31mAttributeError\u001b[0m                            Traceback (most recent call last)",
      "\u001b[0;32m/var/folders/g_/5gwjpx2j5c7cg2mn_rrdzqpc0000gn/T/ipykernel_57506/2545251670.py\u001b[0m in \u001b[0;36m<module>\u001b[0;34m\u001b[0m\n\u001b[0;32m----> 1\u001b[0;31m \u001b[0mmonthly_sales_df\u001b[0m\u001b[0;34m[\u001b[0m\u001b[0;34m'Order Date'\u001b[0m\u001b[0;34m]\u001b[0m \u001b[0;34m=\u001b[0m \u001b[0mpd\u001b[0m\u001b[0;34m.\u001b[0m\u001b[0mto_timestamp\u001b[0m\u001b[0;34m(\u001b[0m\u001b[0mmonthly_sales_df\u001b[0m\u001b[0;34m[\u001b[0m\u001b[0;34m'Order Date'\u001b[0m\u001b[0;34m]\u001b[0m\u001b[0;34m)\u001b[0m\u001b[0;34m\u001b[0m\u001b[0;34m\u001b[0m\u001b[0m\n\u001b[0m",
      "\u001b[0;32m~/anaconda3/envs/project/lib/python3.7/site-packages/pandas/__init__.py\u001b[0m in \u001b[0;36m__getattr__\u001b[0;34m(name)\u001b[0m\n\u001b[1;32m    242\u001b[0m         \u001b[0;32mreturn\u001b[0m \u001b[0m_SparseArray\u001b[0m\u001b[0;34m\u001b[0m\u001b[0;34m\u001b[0m\u001b[0m\n\u001b[1;32m    243\u001b[0m \u001b[0;34m\u001b[0m\u001b[0m\n\u001b[0;32m--> 244\u001b[0;31m     \u001b[0;32mraise\u001b[0m \u001b[0mAttributeError\u001b[0m\u001b[0;34m(\u001b[0m\u001b[0;34mf\"module 'pandas' has no attribute '{name}'\"\u001b[0m\u001b[0;34m)\u001b[0m\u001b[0;34m\u001b[0m\u001b[0;34m\u001b[0m\u001b[0m\n\u001b[0m\u001b[1;32m    245\u001b[0m \u001b[0;34m\u001b[0m\u001b[0m\n\u001b[1;32m    246\u001b[0m \u001b[0;34m\u001b[0m\u001b[0m\n",
      "\u001b[0;31mAttributeError\u001b[0m: module 'pandas' has no attribute 'to_timestamp'"
     ]
    }
   ],
   "source": [
    "monthly_sales_df['Order Date'] = monthly_sales_df['Order Date'])"
   ]
  },
  {
   "cell_type": "code",
   "execution_count": 28,
   "id": "e2b32a4f",
   "metadata": {},
   "outputs": [
    {
     "ename": "TypeError",
     "evalue": "float() argument must be a string or a number, not 'Period'",
     "output_type": "error",
     "traceback": [
      "\u001b[0;31m---------------------------------------------------------------------------\u001b[0m",
      "\u001b[0;31mTypeError\u001b[0m                                 Traceback (most recent call last)",
      "\u001b[0;32m/var/folders/g_/5gwjpx2j5c7cg2mn_rrdzqpc0000gn/T/ipykernel_57506/4239707650.py\u001b[0m in \u001b[0;36m<module>\u001b[0;34m\u001b[0m\n\u001b[0;32m----> 1\u001b[0;31m \u001b[0mplt\u001b[0m\u001b[0;34m.\u001b[0m\u001b[0mplot\u001b[0m\u001b[0;34m(\u001b[0m\u001b[0mmonthly_sales_df\u001b[0m\u001b[0;34m[\u001b[0m\u001b[0;34m'Order Date'\u001b[0m\u001b[0;34m]\u001b[0m\u001b[0;34m,\u001b[0m \u001b[0mmonthly_sales_df\u001b[0m\u001b[0;34m[\u001b[0m\u001b[0;34m'Sales'\u001b[0m\u001b[0;34m]\u001b[0m\u001b[0;34m,\u001b[0m \u001b[0mlinestyle\u001b[0m \u001b[0;34m=\u001b[0m \u001b[0;34m'dotted'\u001b[0m\u001b[0;34m)\u001b[0m\u001b[0;34m\u001b[0m\u001b[0;34m\u001b[0m\u001b[0m\n\u001b[0m\u001b[1;32m      2\u001b[0m \u001b[0;34m\u001b[0m\u001b[0m\n\u001b[1;32m      3\u001b[0m \u001b[0mplt\u001b[0m\u001b[0;34m.\u001b[0m\u001b[0mtitle\u001b[0m\u001b[0;34m(\u001b[0m\u001b[0;34m'Coffee Sales'\u001b[0m\u001b[0;34m)\u001b[0m\u001b[0;34m\u001b[0m\u001b[0;34m\u001b[0m\u001b[0m\n",
      "\u001b[0;32m~/anaconda3/envs/project/lib/python3.7/site-packages/matplotlib/pyplot.py\u001b[0m in \u001b[0;36mplot\u001b[0;34m(scalex, scaley, data, *args, **kwargs)\u001b[0m\n\u001b[1;32m   2761\u001b[0m     return gca().plot(\n\u001b[1;32m   2762\u001b[0m         *args, scalex=scalex, scaley=scaley, **({\"data\": data} if data\n\u001b[0;32m-> 2763\u001b[0;31m         is not None else {}), **kwargs)\n\u001b[0m\u001b[1;32m   2764\u001b[0m \u001b[0;34m\u001b[0m\u001b[0m\n\u001b[1;32m   2765\u001b[0m \u001b[0;34m\u001b[0m\u001b[0m\n",
      "\u001b[0;32m~/anaconda3/envs/project/lib/python3.7/site-packages/matplotlib/axes/_axes.py\u001b[0m in \u001b[0;36mplot\u001b[0;34m(self, scalex, scaley, data, *args, **kwargs)\u001b[0m\n\u001b[1;32m   1647\u001b[0m         \u001b[0mlines\u001b[0m \u001b[0;34m=\u001b[0m \u001b[0;34m[\u001b[0m\u001b[0;34m*\u001b[0m\u001b[0mself\u001b[0m\u001b[0;34m.\u001b[0m\u001b[0m_get_lines\u001b[0m\u001b[0;34m(\u001b[0m\u001b[0;34m*\u001b[0m\u001b[0margs\u001b[0m\u001b[0;34m,\u001b[0m \u001b[0mdata\u001b[0m\u001b[0;34m=\u001b[0m\u001b[0mdata\u001b[0m\u001b[0;34m,\u001b[0m \u001b[0;34m**\u001b[0m\u001b[0mkwargs\u001b[0m\u001b[0;34m)\u001b[0m\u001b[0;34m]\u001b[0m\u001b[0;34m\u001b[0m\u001b[0;34m\u001b[0m\u001b[0m\n\u001b[1;32m   1648\u001b[0m         \u001b[0;32mfor\u001b[0m \u001b[0mline\u001b[0m \u001b[0;32min\u001b[0m \u001b[0mlines\u001b[0m\u001b[0;34m:\u001b[0m\u001b[0;34m\u001b[0m\u001b[0;34m\u001b[0m\u001b[0m\n\u001b[0;32m-> 1649\u001b[0;31m             \u001b[0mself\u001b[0m\u001b[0;34m.\u001b[0m\u001b[0madd_line\u001b[0m\u001b[0;34m(\u001b[0m\u001b[0mline\u001b[0m\u001b[0;34m)\u001b[0m\u001b[0;34m\u001b[0m\u001b[0;34m\u001b[0m\u001b[0m\n\u001b[0m\u001b[1;32m   1650\u001b[0m         \u001b[0mself\u001b[0m\u001b[0;34m.\u001b[0m\u001b[0m_request_autoscale_view\u001b[0m\u001b[0;34m(\u001b[0m\u001b[0mscalex\u001b[0m\u001b[0;34m=\u001b[0m\u001b[0mscalex\u001b[0m\u001b[0;34m,\u001b[0m \u001b[0mscaley\u001b[0m\u001b[0;34m=\u001b[0m\u001b[0mscaley\u001b[0m\u001b[0;34m)\u001b[0m\u001b[0;34m\u001b[0m\u001b[0;34m\u001b[0m\u001b[0m\n\u001b[1;32m   1651\u001b[0m         \u001b[0;32mreturn\u001b[0m \u001b[0mlines\u001b[0m\u001b[0;34m\u001b[0m\u001b[0;34m\u001b[0m\u001b[0m\n",
      "\u001b[0;32m~/anaconda3/envs/project/lib/python3.7/site-packages/matplotlib/axes/_base.py\u001b[0m in \u001b[0;36madd_line\u001b[0;34m(self, line)\u001b[0m\n\u001b[1;32m   1848\u001b[0m             \u001b[0mline\u001b[0m\u001b[0;34m.\u001b[0m\u001b[0mset_clip_path\u001b[0m\u001b[0;34m(\u001b[0m\u001b[0mself\u001b[0m\u001b[0;34m.\u001b[0m\u001b[0mpatch\u001b[0m\u001b[0;34m)\u001b[0m\u001b[0;34m\u001b[0m\u001b[0;34m\u001b[0m\u001b[0m\n\u001b[1;32m   1849\u001b[0m \u001b[0;34m\u001b[0m\u001b[0m\n\u001b[0;32m-> 1850\u001b[0;31m         \u001b[0mself\u001b[0m\u001b[0;34m.\u001b[0m\u001b[0m_update_line_limits\u001b[0m\u001b[0;34m(\u001b[0m\u001b[0mline\u001b[0m\u001b[0;34m)\u001b[0m\u001b[0;34m\u001b[0m\u001b[0;34m\u001b[0m\u001b[0m\n\u001b[0m\u001b[1;32m   1851\u001b[0m         \u001b[0;32mif\u001b[0m \u001b[0;32mnot\u001b[0m \u001b[0mline\u001b[0m\u001b[0;34m.\u001b[0m\u001b[0mget_label\u001b[0m\u001b[0;34m(\u001b[0m\u001b[0;34m)\u001b[0m\u001b[0;34m:\u001b[0m\u001b[0;34m\u001b[0m\u001b[0;34m\u001b[0m\u001b[0m\n\u001b[1;32m   1852\u001b[0m             \u001b[0mline\u001b[0m\u001b[0;34m.\u001b[0m\u001b[0mset_label\u001b[0m\u001b[0;34m(\u001b[0m\u001b[0;34m'_line%d'\u001b[0m \u001b[0;34m%\u001b[0m \u001b[0mlen\u001b[0m\u001b[0;34m(\u001b[0m\u001b[0mself\u001b[0m\u001b[0;34m.\u001b[0m\u001b[0mlines\u001b[0m\u001b[0;34m)\u001b[0m\u001b[0;34m)\u001b[0m\u001b[0;34m\u001b[0m\u001b[0;34m\u001b[0m\u001b[0m\n",
      "\u001b[0;32m~/anaconda3/envs/project/lib/python3.7/site-packages/matplotlib/axes/_base.py\u001b[0m in \u001b[0;36m_update_line_limits\u001b[0;34m(self, line)\u001b[0m\n\u001b[1;32m   1870\u001b[0m         \u001b[0mFigures\u001b[0m \u001b[0mout\u001b[0m \u001b[0mthe\u001b[0m \u001b[0mdata\u001b[0m \u001b[0mlimit\u001b[0m \u001b[0mof\u001b[0m \u001b[0mthe\u001b[0m \u001b[0mgiven\u001b[0m \u001b[0mline\u001b[0m\u001b[0;34m,\u001b[0m \u001b[0mupdating\u001b[0m \u001b[0mself\u001b[0m\u001b[0;34m.\u001b[0m\u001b[0mdataLim\u001b[0m\u001b[0;34m.\u001b[0m\u001b[0;34m\u001b[0m\u001b[0;34m\u001b[0m\u001b[0m\n\u001b[1;32m   1871\u001b[0m         \"\"\"\n\u001b[0;32m-> 1872\u001b[0;31m         \u001b[0mpath\u001b[0m \u001b[0;34m=\u001b[0m \u001b[0mline\u001b[0m\u001b[0;34m.\u001b[0m\u001b[0mget_path\u001b[0m\u001b[0;34m(\u001b[0m\u001b[0;34m)\u001b[0m\u001b[0;34m\u001b[0m\u001b[0;34m\u001b[0m\u001b[0m\n\u001b[0m\u001b[1;32m   1873\u001b[0m         \u001b[0;32mif\u001b[0m \u001b[0mpath\u001b[0m\u001b[0;34m.\u001b[0m\u001b[0mvertices\u001b[0m\u001b[0;34m.\u001b[0m\u001b[0msize\u001b[0m \u001b[0;34m==\u001b[0m \u001b[0;36m0\u001b[0m\u001b[0;34m:\u001b[0m\u001b[0;34m\u001b[0m\u001b[0;34m\u001b[0m\u001b[0m\n\u001b[1;32m   1874\u001b[0m             \u001b[0;32mreturn\u001b[0m\u001b[0;34m\u001b[0m\u001b[0;34m\u001b[0m\u001b[0m\n",
      "\u001b[0;32m~/anaconda3/envs/project/lib/python3.7/site-packages/matplotlib/lines.py\u001b[0m in \u001b[0;36mget_path\u001b[0;34m(self)\u001b[0m\n\u001b[1;32m   1025\u001b[0m         \"\"\"\n\u001b[1;32m   1026\u001b[0m         \u001b[0;32mif\u001b[0m \u001b[0mself\u001b[0m\u001b[0;34m.\u001b[0m\u001b[0m_invalidy\u001b[0m \u001b[0;32mor\u001b[0m \u001b[0mself\u001b[0m\u001b[0;34m.\u001b[0m\u001b[0m_invalidx\u001b[0m\u001b[0;34m:\u001b[0m\u001b[0;34m\u001b[0m\u001b[0;34m\u001b[0m\u001b[0m\n\u001b[0;32m-> 1027\u001b[0;31m             \u001b[0mself\u001b[0m\u001b[0;34m.\u001b[0m\u001b[0mrecache\u001b[0m\u001b[0;34m(\u001b[0m\u001b[0;34m)\u001b[0m\u001b[0;34m\u001b[0m\u001b[0;34m\u001b[0m\u001b[0m\n\u001b[0m\u001b[1;32m   1028\u001b[0m         \u001b[0;32mreturn\u001b[0m \u001b[0mself\u001b[0m\u001b[0;34m.\u001b[0m\u001b[0m_path\u001b[0m\u001b[0;34m\u001b[0m\u001b[0;34m\u001b[0m\u001b[0m\n\u001b[1;32m   1029\u001b[0m \u001b[0;34m\u001b[0m\u001b[0m\n",
      "\u001b[0;32m~/anaconda3/envs/project/lib/python3.7/site-packages/matplotlib/lines.py\u001b[0m in \u001b[0;36mrecache\u001b[0;34m(self, always)\u001b[0m\n\u001b[1;32m    668\u001b[0m         \u001b[0;32mif\u001b[0m \u001b[0malways\u001b[0m \u001b[0;32mor\u001b[0m \u001b[0mself\u001b[0m\u001b[0;34m.\u001b[0m\u001b[0m_invalidx\u001b[0m\u001b[0;34m:\u001b[0m\u001b[0;34m\u001b[0m\u001b[0;34m\u001b[0m\u001b[0m\n\u001b[1;32m    669\u001b[0m             \u001b[0mxconv\u001b[0m \u001b[0;34m=\u001b[0m \u001b[0mself\u001b[0m\u001b[0;34m.\u001b[0m\u001b[0mconvert_xunits\u001b[0m\u001b[0;34m(\u001b[0m\u001b[0mself\u001b[0m\u001b[0;34m.\u001b[0m\u001b[0m_xorig\u001b[0m\u001b[0;34m)\u001b[0m\u001b[0;34m\u001b[0m\u001b[0;34m\u001b[0m\u001b[0m\n\u001b[0;32m--> 670\u001b[0;31m             \u001b[0mx\u001b[0m \u001b[0;34m=\u001b[0m \u001b[0m_to_unmasked_float_array\u001b[0m\u001b[0;34m(\u001b[0m\u001b[0mxconv\u001b[0m\u001b[0;34m)\u001b[0m\u001b[0;34m.\u001b[0m\u001b[0mravel\u001b[0m\u001b[0;34m(\u001b[0m\u001b[0;34m)\u001b[0m\u001b[0;34m\u001b[0m\u001b[0;34m\u001b[0m\u001b[0m\n\u001b[0m\u001b[1;32m    671\u001b[0m         \u001b[0;32melse\u001b[0m\u001b[0;34m:\u001b[0m\u001b[0;34m\u001b[0m\u001b[0;34m\u001b[0m\u001b[0m\n\u001b[1;32m    672\u001b[0m             \u001b[0mx\u001b[0m \u001b[0;34m=\u001b[0m \u001b[0mself\u001b[0m\u001b[0;34m.\u001b[0m\u001b[0m_x\u001b[0m\u001b[0;34m\u001b[0m\u001b[0;34m\u001b[0m\u001b[0m\n",
      "\u001b[0;32m~/anaconda3/envs/project/lib/python3.7/site-packages/matplotlib/cbook/__init__.py\u001b[0m in \u001b[0;36m_to_unmasked_float_array\u001b[0;34m(x)\u001b[0m\n\u001b[1;32m   1315\u001b[0m         \u001b[0;32mreturn\u001b[0m \u001b[0mnp\u001b[0m\u001b[0;34m.\u001b[0m\u001b[0mma\u001b[0m\u001b[0;34m.\u001b[0m\u001b[0masarray\u001b[0m\u001b[0;34m(\u001b[0m\u001b[0mx\u001b[0m\u001b[0;34m,\u001b[0m \u001b[0mfloat\u001b[0m\u001b[0;34m)\u001b[0m\u001b[0;34m.\u001b[0m\u001b[0mfilled\u001b[0m\u001b[0;34m(\u001b[0m\u001b[0mnp\u001b[0m\u001b[0;34m.\u001b[0m\u001b[0mnan\u001b[0m\u001b[0;34m)\u001b[0m\u001b[0;34m\u001b[0m\u001b[0;34m\u001b[0m\u001b[0m\n\u001b[1;32m   1316\u001b[0m     \u001b[0;32melse\u001b[0m\u001b[0;34m:\u001b[0m\u001b[0;34m\u001b[0m\u001b[0;34m\u001b[0m\u001b[0m\n\u001b[0;32m-> 1317\u001b[0;31m         \u001b[0;32mreturn\u001b[0m \u001b[0mnp\u001b[0m\u001b[0;34m.\u001b[0m\u001b[0masarray\u001b[0m\u001b[0;34m(\u001b[0m\u001b[0mx\u001b[0m\u001b[0;34m,\u001b[0m \u001b[0mfloat\u001b[0m\u001b[0;34m)\u001b[0m\u001b[0;34m\u001b[0m\u001b[0;34m\u001b[0m\u001b[0m\n\u001b[0m\u001b[1;32m   1318\u001b[0m \u001b[0;34m\u001b[0m\u001b[0m\n\u001b[1;32m   1319\u001b[0m \u001b[0;34m\u001b[0m\u001b[0m\n",
      "\u001b[0;31mTypeError\u001b[0m: float() argument must be a string or a number, not 'Period'"
     ]
    },
    {
     "data": {
      "image/png": "[encoded data removed]",
      "text/plain": [
       "<Figure size 640x480 with 1 Axes>"
      ]
     },
     "metadata": {},
     "output_type": "display_data"
    }
   ],
   "source": [
    "plt.plot(monthly_sales_df['Order Date'], monthly_sales_df['Sales'], linestyle = 'dotted')\n",
    "\n",
    "plt.title('Coffee Sales')\n"
   ]
  },
  {
   "cell_type": "code",
   "execution_count": null,
   "id": "babdd737",
   "metadata": {},
   "outputs": [],
   "source": []
  }
 ],
 "metadata": {
  "kernelspec": {
   "display_name": "Python 3 (ipykernel)",
   "language": "python",
   "name": "python3"
  },
  "language_info": {
   "codemirror_mode": {
    "name": "ipython",
    "version": 3
   },
   "file_extension": ".py",
   "mimetype": "text/x-python",
   "name": "python",
   "nbconvert_exporter": "python",
   "pygments_lexer": "ipython3",
   "version": "3.7.16"
  }
 },
 "nbformat": 4,
 "nbformat_minor": 5
}

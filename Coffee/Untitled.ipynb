{
 "cells": [
  {
   "cell_type": "code",
   "execution_count": 1,
   "id": "61432a4b",
   "metadata": {},
   "outputs": [],
   "source": [
    "import pandas as pd\n",
    "import matplotlib.pyplot as plt\n",
    "import seaborn as sns\n",
    "import numpy as np\n",
    "from sklearn.preprocessing import OneHotEncoder"
   ]
  },
  {
   "cell_type": "code",
   "execution_count": 2,
   "id": "d44e0a2f",
   "metadata": {},
   "outputs": [],
   "source": [
    "product_df = pd.read_csv('data/product.csv')"
   ]
  },
  {
   "cell_type": "code",
   "execution_count": null,
   "id": "b6593fad",
   "metadata": {},
   "outputs": [],
   "source": []
  },
  {
   "cell_type": "code",
   "execution_count": 3,
   "id": "99fa787c",
   "metadata": {},
   "outputs": [
    {
     "data": {
      "text/html": [
       "<div>\n",
       "<style scoped>\n",
       "    .dataframe tbody tr th:only-of-type {\n",
       "        vertical-align: middle;\n",
       "    }\n",
       "\n",
       "    .dataframe tbody tr th {\n",
       "        vertical-align: top;\n",
       "    }\n",
       "\n",
       "    .dataframe thead th {\n",
       "        text-align: right;\n",
       "    }\n",
       "</style>\n",
       "<table border=\"1\" class=\"dataframe\">\n",
       "  <thead>\n",
       "    <tr style=\"text-align: right;\">\n",
       "      <th></th>\n",
       "      <th>Unnamed: 0</th>\n",
       "      <th>Product ID</th>\n",
       "      <th>Country</th>\n",
       "      <th>Unit Price</th>\n",
       "      <th>Unit Profit</th>\n",
       "      <th>Unit Profit Percentage</th>\n",
       "      <th>Unit Weight(kg)</th>\n",
       "      <th>Coffee Type</th>\n",
       "      <th>Roast Type</th>\n",
       "      <th>Price per 100g</th>\n",
       "      <th>Quantity</th>\n",
       "    </tr>\n",
       "  </thead>\n",
       "  <tbody>\n",
       "    <tr>\n",
       "      <th>0</th>\n",
       "      <td>0</td>\n",
       "      <td>A-D-0.2</td>\n",
       "      <td>Ireland</td>\n",
       "      <td>2.985</td>\n",
       "      <td>0.26865</td>\n",
       "      <td>0.09</td>\n",
       "      <td>0.2</td>\n",
       "      <td>Ara</td>\n",
       "      <td>D</td>\n",
       "      <td>1.4925</td>\n",
       "      <td>27.0</td>\n",
       "    </tr>\n",
       "    <tr>\n",
       "      <th>1</th>\n",
       "      <td>1</td>\n",
       "      <td>A-D-0.2</td>\n",
       "      <td>United States</td>\n",
       "      <td>2.985</td>\n",
       "      <td>0.26865</td>\n",
       "      <td>0.09</td>\n",
       "      <td>0.2</td>\n",
       "      <td>Ara</td>\n",
       "      <td>D</td>\n",
       "      <td>1.4925</td>\n",
       "      <td>70.0</td>\n",
       "    </tr>\n",
       "    <tr>\n",
       "      <th>2</th>\n",
       "      <td>2</td>\n",
       "      <td>A-D-0.5</td>\n",
       "      <td>Ireland</td>\n",
       "      <td>5.970</td>\n",
       "      <td>0.53730</td>\n",
       "      <td>0.09</td>\n",
       "      <td>0.5</td>\n",
       "      <td>Ara</td>\n",
       "      <td>D</td>\n",
       "      <td>1.1940</td>\n",
       "      <td>16.0</td>\n",
       "    </tr>\n",
       "    <tr>\n",
       "      <th>3</th>\n",
       "      <td>3</td>\n",
       "      <td>A-D-0.5</td>\n",
       "      <td>United Kingdom</td>\n",
       "      <td>5.970</td>\n",
       "      <td>0.53730</td>\n",
       "      <td>0.09</td>\n",
       "      <td>0.5</td>\n",
       "      <td>Ara</td>\n",
       "      <td>D</td>\n",
       "      <td>1.1940</td>\n",
       "      <td>5.0</td>\n",
       "    </tr>\n",
       "    <tr>\n",
       "      <th>4</th>\n",
       "      <td>4</td>\n",
       "      <td>A-D-0.5</td>\n",
       "      <td>United States</td>\n",
       "      <td>5.970</td>\n",
       "      <td>0.53730</td>\n",
       "      <td>0.09</td>\n",
       "      <td>0.5</td>\n",
       "      <td>Ara</td>\n",
       "      <td>D</td>\n",
       "      <td>1.1940</td>\n",
       "      <td>68.0</td>\n",
       "    </tr>\n",
       "    <tr>\n",
       "      <th>...</th>\n",
       "      <td>...</td>\n",
       "      <td>...</td>\n",
       "      <td>...</td>\n",
       "      <td>...</td>\n",
       "      <td>...</td>\n",
       "      <td>...</td>\n",
       "      <td>...</td>\n",
       "      <td>...</td>\n",
       "      <td>...</td>\n",
       "      <td>...</td>\n",
       "      <td>...</td>\n",
       "    </tr>\n",
       "    <tr>\n",
       "      <th>126</th>\n",
       "      <td>126</td>\n",
       "      <td>R-M-1</td>\n",
       "      <td>United Kingdom</td>\n",
       "      <td>9.950</td>\n",
       "      <td>0.59700</td>\n",
       "      <td>0.06</td>\n",
       "      <td>1.0</td>\n",
       "      <td>Rob</td>\n",
       "      <td>M</td>\n",
       "      <td>0.9950</td>\n",
       "      <td>12.0</td>\n",
       "    </tr>\n",
       "    <tr>\n",
       "      <th>127</th>\n",
       "      <td>127</td>\n",
       "      <td>R-M-1</td>\n",
       "      <td>United States</td>\n",
       "      <td>9.950</td>\n",
       "      <td>0.59700</td>\n",
       "      <td>0.06</td>\n",
       "      <td>1.0</td>\n",
       "      <td>Rob</td>\n",
       "      <td>M</td>\n",
       "      <td>0.9950</td>\n",
       "      <td>51.0</td>\n",
       "    </tr>\n",
       "    <tr>\n",
       "      <th>128</th>\n",
       "      <td>128</td>\n",
       "      <td>R-M-2.5</td>\n",
       "      <td>Ireland</td>\n",
       "      <td>22.885</td>\n",
       "      <td>1.37310</td>\n",
       "      <td>0.06</td>\n",
       "      <td>2.5</td>\n",
       "      <td>Rob</td>\n",
       "      <td>M</td>\n",
       "      <td>0.9154</td>\n",
       "      <td>4.0</td>\n",
       "    </tr>\n",
       "    <tr>\n",
       "      <th>129</th>\n",
       "      <td>129</td>\n",
       "      <td>R-M-2.5</td>\n",
       "      <td>United Kingdom</td>\n",
       "      <td>22.885</td>\n",
       "      <td>1.37310</td>\n",
       "      <td>0.06</td>\n",
       "      <td>2.5</td>\n",
       "      <td>Rob</td>\n",
       "      <td>M</td>\n",
       "      <td>0.9154</td>\n",
       "      <td>6.0</td>\n",
       "    </tr>\n",
       "    <tr>\n",
       "      <th>130</th>\n",
       "      <td>130</td>\n",
       "      <td>R-M-2.5</td>\n",
       "      <td>United States</td>\n",
       "      <td>22.885</td>\n",
       "      <td>1.37310</td>\n",
       "      <td>0.06</td>\n",
       "      <td>2.5</td>\n",
       "      <td>Rob</td>\n",
       "      <td>M</td>\n",
       "      <td>0.9154</td>\n",
       "      <td>46.0</td>\n",
       "    </tr>\n",
       "  </tbody>\n",
       "</table>\n",
       "<p>131 rows × 11 columns</p>\n",
       "</div>"
      ],
      "text/plain": [
       "     Unnamed: 0 Product ID         Country  Unit Price  Unit Profit  \\\n",
       "0             0    A-D-0.2         Ireland       2.985      0.26865   \n",
       "1             1    A-D-0.2   United States       2.985      0.26865   \n",
       "2             2    A-D-0.5         Ireland       5.970      0.53730   \n",
       "3             3    A-D-0.5  United Kingdom       5.970      0.53730   \n",
       "4             4    A-D-0.5   United States       5.970      0.53730   \n",
       "..          ...        ...             ...         ...          ...   \n",
       "126         126      R-M-1  United Kingdom       9.950      0.59700   \n",
       "127         127      R-M-1   United States       9.950      0.59700   \n",
       "128         128    R-M-2.5         Ireland      22.885      1.37310   \n",
       "129         129    R-M-2.5  United Kingdom      22.885      1.37310   \n",
       "130         130    R-M-2.5   United States      22.885      1.37310   \n",
       "\n",
       "     Unit Profit Percentage  Unit Weight(kg) Coffee Type Roast Type  \\\n",
       "0                      0.09              0.2         Ara          D   \n",
       "1                      0.09              0.2         Ara          D   \n",
       "2                      0.09              0.5         Ara          D   \n",
       "3                      0.09              0.5         Ara          D   \n",
       "4                      0.09              0.5         Ara          D   \n",
       "..                      ...              ...         ...        ...   \n",
       "126                    0.06              1.0         Rob          M   \n",
       "127                    0.06              1.0         Rob          M   \n",
       "128                    0.06              2.5         Rob          M   \n",
       "129                    0.06              2.5         Rob          M   \n",
       "130                    0.06              2.5         Rob          M   \n",
       "\n",
       "     Price per 100g  Quantity  \n",
       "0            1.4925      27.0  \n",
       "1            1.4925      70.0  \n",
       "2            1.1940      16.0  \n",
       "3            1.1940       5.0  \n",
       "4            1.1940      68.0  \n",
       "..              ...       ...  \n",
       "126          0.9950      12.0  \n",
       "127          0.9950      51.0  \n",
       "128          0.9154       4.0  \n",
       "129          0.9154       6.0  \n",
       "130          0.9154      46.0  \n",
       "\n",
       "[131 rows x 11 columns]"
      ]
     },
     "execution_count": 3,
     "metadata": {},
     "output_type": "execute_result"
    }
   ],
   "source": [
    "product_df"
   ]
  },
  {
   "cell_type": "markdown",
   "id": "5a39ef0b",
   "metadata": {},
   "source": [
    "I am adding new feature columns related to the current data already available to be able to look at the products in a different way than already recorded. These columns may be useful in solving questions or problems for other businesses looking to get into coffee sales."
   ]
  },
  {
   "cell_type": "code",
   "execution_count": 4,
   "id": "dcac0d95",
   "metadata": {},
   "outputs": [],
   "source": [
    "product_df['Total Quantity'] = product_df.groupby('Country')['Quantity'].transform('sum')\n",
    "product_df['Percent Purchased'] = product_df['Quantity'] / product_df['Total Quantity']\n",
    "product_df['Total Unit Sales'] = product_df['Unit Price'] * product_df['Quantity']\n",
    "product_df ['Total Unit Profit'] = product_df['Unit Profit'] * product_df['Quantity']\n",
    "product_df['Total Unit Weight Sold'] = product_df['Unit Weight(kg)'] * product_df['Quantity']\n",
    "product_df['Total Weight'] = product_df.groupby('Country')['Total Unit Weight Sold'].transform('sum')\n",
    "product_df['Percent of Total Weight Shipped'] = product_df['Total Unit Weight Sold'] / product_df['Total Weight']"
   ]
  },
  {
   "cell_type": "code",
   "execution_count": 5,
   "id": "f55456b1",
   "metadata": {},
   "outputs": [],
   "source": [
    "product_df.sort_values(by='Percent Purchased', ascending=False, inplace=True )"
   ]
  },
  {
   "cell_type": "markdown",
   "id": "bc825120",
   "metadata": {},
   "source": [
    "### Favorite Coffee by Country\n",
    "In order to gain some meaningful insights about Coffee purchased from this seller, I would like to first break down the products by the Country they were purchased in."
   ]
  },
  {
   "cell_type": "code",
   "execution_count": 6,
   "id": "ba441f40",
   "metadata": {},
   "outputs": [],
   "source": [
    "ireland_prod = product_df[product_df['Country'] == 'Ireland'].head(10)\n",
    "uk_prod= product_df[product_df['Country'] == 'United Kingdom'].head(10)\n",
    "us_prod= product_df[product_df['Country'] == 'United States'].head(10)"
   ]
  },
  {
   "cell_type": "markdown",
   "id": "f495bdce",
   "metadata": {},
   "source": [
    "### United States"
   ]
  },
  {
   "cell_type": "code",
   "execution_count": 7,
   "id": "b855df00",
   "metadata": {},
   "outputs": [
    {
     "data": {
      "text/plain": [
       "([0, 1, 2, 3, 4, 5, 6, 7, 8, 9], <a list of 10 Text major ticklabel objects>)"
      ]
     },
     "execution_count": 7,
     "metadata": {},
     "output_type": "execute_result"
    },
    {
     "data": {
      "image/png": "[encoded data removed]",
      "text/plain": [
       "<Figure size 640x480 with 1 Axes>"
      ]
     },
     "metadata": {},
     "output_type": "display_data"
    }
   ],
   "source": [
    "plt.bar(us_prod['Product ID'], us_prod['Percent Purchased'])\n",
    "plt.xticks(rotation=90)"
   ]
  },
  {
   "cell_type": "markdown",
   "id": "f6c1189e",
   "metadata": {},
   "source": [
    "Medium Roast Arabica coffee appears to be the most popular coffee and roast type purchased in the U.S. as it occupies the number 1, 2 and 9 spot of top 10 in percent purchased coffee. Particulary, the 2.5kg and .5kg products are the most purchased in the U.S."
   ]
  },
  {
   "cell_type": "code",
   "execution_count": 8,
   "id": "e157a511",
   "metadata": {},
   "outputs": [
    {
     "data": {
      "text/plain": [
       "([0, 1, 2, 3, 4, 5, 6, 7, 8, 9], <a list of 10 Text major ticklabel objects>)"
      ]
     },
     "execution_count": 8,
     "metadata": {},
     "output_type": "execute_result"
    },
    {
     "data": {
      "image/png": "[encoded data removed]",
      "text/plain": [
       "<Figure size 640x480 with 1 Axes>"
      ]
     },
     "metadata": {},
     "output_type": "display_data"
    }
   ],
   "source": [
    "plt.bar(us_prod['Product ID'], us_prod['Total Unit Profit'])\n",
    "plt.xticks(rotation=90)\n"
   ]
  },
  {
   "cell_type": "markdown",
   "id": "a8924571",
   "metadata": {},
   "source": [
    "The total profits gained by product appears to be motly determined by product size. The larger the product, the more total profit gained."
   ]
  },
  {
   "cell_type": "code",
   "execution_count": 9,
   "id": "887cb9ac",
   "metadata": {},
   "outputs": [
    {
     "data": {
      "text/plain": [
       "([0, 1, 2, 3, 4, 5, 6, 7, 8, 9], <a list of 10 Text major ticklabel objects>)"
      ]
     },
     "execution_count": 9,
     "metadata": {},
     "output_type": "execute_result"
    },
    {
     "data": {
      "image/png": "[encoded data removed]",
      "text/plain": [
       "<Figure size 640x480 with 1 Axes>"
      ]
     },
     "metadata": {},
     "output_type": "display_data"
    }
   ],
   "source": [
    "plt.bar(us_prod['Product ID'], us_prod['Unit Price'])\n",
    "plt.xticks(rotation=90)"
   ]
  },
  {
   "cell_type": "markdown",
   "id": "34aa6e55",
   "metadata": {},
   "source": [
    "The inidividual price per product similarly is determined by product size. This graph and the total profit graphs are incredibly similar in their appearance, hinting at a strong correlation between the two. "
   ]
  },
  {
   "cell_type": "code",
   "execution_count": 10,
   "id": "0e9eb54d",
   "metadata": {},
   "outputs": [
    {
     "data": {
      "text/plain": [
       "([0, 1, 2, 3, 4, 5, 6, 7, 8, 9], <a list of 10 Text major ticklabel objects>)"
      ]
     },
     "execution_count": 10,
     "metadata": {},
     "output_type": "execute_result"
    },
    {
     "data": {
      "image/png": "[encoded data removed]",
      "text/plain": [
       "<Figure size 640x480 with 1 Axes>"
      ]
     },
     "metadata": {},
     "output_type": "display_data"
    }
   ],
   "source": [
    "plt.bar(us_prod['Product ID'], us_prod['Price per 100g'])\n",
    "plt.xticks(rotation=90)"
   ]
  },
  {
   "cell_type": "markdown",
   "id": "bb599b9d",
   "metadata": {},
   "source": [
    "Conversely, Price per 100g is higher the lower the product size. Coffee type does also play a role here, with product R-L-1 costing the same per 100g as A-L-2.5. Possible reasons for this is that labor costs don't get more expensive while filling larger bags and additionally the need for more bags at the smaller size are likely driving costs up. Shipping costs may also play a role as the initial cost to ship, especially internationally, is high and shipping in bulk may be more cost effective."
   ]
  },
  {
   "cell_type": "code",
   "execution_count": null,
   "id": "6062c31c",
   "metadata": {},
   "outputs": [],
   "source": []
  },
  {
   "cell_type": "code",
   "execution_count": 11,
   "id": "57098adc",
   "metadata": {},
   "outputs": [
    {
     "data": {
      "text/plain": [
       "([0, 1, 2, 3, 4, 5, 6, 7, 8, 9], <a list of 10 Text major ticklabel objects>)"
      ]
     },
     "execution_count": 11,
     "metadata": {},
     "output_type": "execute_result"
    },
    {
     "data": {
      "image/png": "[encoded data removed]",
      "text/plain": [
       "<Figure size 640x480 with 1 Axes>"
      ]
     },
     "metadata": {},
     "output_type": "display_data"
    }
   ],
   "source": [
    "plt.bar(us_prod['Product ID'], us_prod['Unit Profit Percentage'])\n",
    "plt.xticks(rotation=90)"
   ]
  },
  {
   "cell_type": "markdown",
   "id": "f5b6db01",
   "metadata": {},
   "source": [
    "As weight goes up, price per 100g goes down, relative to each coffee and roast type. Profit percentage is set by coffee type rather than roast or weight.\n",
    "\n",
    "Prouct L-M-0.2 is the most profitable and 5th most purchased in the U.S."
   ]
  },
  {
   "cell_type": "markdown",
   "id": "b5e9f4b0",
   "metadata": {},
   "source": [
    "### Ireland"
   ]
  },
  {
   "cell_type": "code",
   "execution_count": 20,
   "id": "d39d9694",
   "metadata": {},
   "outputs": [
    {
     "data": {
      "text/html": [
       "<div>\n",
       "<style scoped>\n",
       "    .dataframe tbody tr th:only-of-type {\n",
       "        vertical-align: middle;\n",
       "    }\n",
       "\n",
       "    .dataframe tbody tr th {\n",
       "        vertical-align: top;\n",
       "    }\n",
       "\n",
       "    .dataframe thead th {\n",
       "        text-align: right;\n",
       "    }\n",
       "</style>\n",
       "<table border=\"1\" class=\"dataframe\">\n",
       "  <thead>\n",
       "    <tr style=\"text-align: right;\">\n",
       "      <th></th>\n",
       "      <th>Unnamed: 0</th>\n",
       "      <th>Unit Price</th>\n",
       "      <th>Unit Profit</th>\n",
       "      <th>Unit Profit Percentage</th>\n",
       "      <th>Unit Weight(kg)</th>\n",
       "      <th>Price per 100g</th>\n",
       "      <th>Quantity</th>\n",
       "      <th>Total Quantity</th>\n",
       "      <th>Percent Purchased</th>\n",
       "      <th>Total Unit Sales</th>\n",
       "      <th>Total Unit Profit</th>\n",
       "      <th>Total Unit Weight Sold</th>\n",
       "      <th>Total Weight</th>\n",
       "      <th>Percent of Total Weight Shipped</th>\n",
       "    </tr>\n",
       "  </thead>\n",
       "  <tbody>\n",
       "    <tr>\n",
       "      <th>count</th>\n",
       "      <td>10.000</td>\n",
       "      <td>10.000000</td>\n",
       "      <td>10.000000</td>\n",
       "      <td>10.000000</td>\n",
       "      <td>10.000000</td>\n",
       "      <td>10.000000</td>\n",
       "      <td>10.00000</td>\n",
       "      <td>10.0</td>\n",
       "      <td>10.000000</td>\n",
       "      <td>10.000000</td>\n",
       "      <td>10.000000</td>\n",
       "      <td>10.000000</td>\n",
       "      <td>10.0</td>\n",
       "      <td>10.000000</td>\n",
       "    </tr>\n",
       "    <tr>\n",
       "      <th>mean</th>\n",
       "      <td>64.800</td>\n",
       "      <td>12.149500</td>\n",
       "      <td>1.093405</td>\n",
       "      <td>0.088000</td>\n",
       "      <td>1.080000</td>\n",
       "      <td>1.383520</td>\n",
       "      <td>22.40000</td>\n",
       "      <td>537.0</td>\n",
       "      <td>0.041713</td>\n",
       "      <td>263.887500</td>\n",
       "      <td>24.198045</td>\n",
       "      <td>23.550000</td>\n",
       "      <td>544.3</td>\n",
       "      <td>0.043267</td>\n",
       "    </tr>\n",
       "    <tr>\n",
       "      <th>std</th>\n",
       "      <td>44.304</td>\n",
       "      <td>10.224191</td>\n",
       "      <td>1.094534</td>\n",
       "      <td>0.028206</td>\n",
       "      <td>1.027186</td>\n",
       "      <td>0.431234</td>\n",
       "      <td>4.40202</td>\n",
       "      <td>0.0</td>\n",
       "      <td>0.008197</td>\n",
       "      <td>224.220042</td>\n",
       "      <td>26.058917</td>\n",
       "      <td>23.350815</td>\n",
       "      <td>0.0</td>\n",
       "      <td>0.042901</td>\n",
       "    </tr>\n",
       "    <tr>\n",
       "      <th>min</th>\n",
       "      <td>0.000</td>\n",
       "      <td>2.685000</td>\n",
       "      <td>0.161100</td>\n",
       "      <td>0.060000</td>\n",
       "      <td>0.200000</td>\n",
       "      <td>0.823400</td>\n",
       "      <td>16.00000</td>\n",
       "      <td>537.0</td>\n",
       "      <td>0.029795</td>\n",
       "      <td>48.330000</td>\n",
       "      <td>2.899800</td>\n",
       "      <td>3.600000</td>\n",
       "      <td>544.3</td>\n",
       "      <td>0.006614</td>\n",
       "    </tr>\n",
       "    <tr>\n",
       "      <th>25%</th>\n",
       "      <td>27.000</td>\n",
       "      <td>3.802500</td>\n",
       "      <td>0.324000</td>\n",
       "      <td>0.060000</td>\n",
       "      <td>0.200000</td>\n",
       "      <td>1.105800</td>\n",
       "      <td>19.25000</td>\n",
       "      <td>537.0</td>\n",
       "      <td>0.035847</td>\n",
       "      <td>93.712500</td>\n",
       "      <td>7.890413</td>\n",
       "      <td>5.550000</td>\n",
       "      <td>544.3</td>\n",
       "      <td>0.010197</td>\n",
       "    </tr>\n",
       "    <tr>\n",
       "      <th>50%</th>\n",
       "      <td>79.000</td>\n",
       "      <td>9.340000</td>\n",
       "      <td>0.954000</td>\n",
       "      <td>0.090000</td>\n",
       "      <td>0.750000</td>\n",
       "      <td>1.266950</td>\n",
       "      <td>22.00000</td>\n",
       "      <td>537.0</td>\n",
       "      <td>0.040968</td>\n",
       "      <td>204.870000</td>\n",
       "      <td>19.021500</td>\n",
       "      <td>15.250000</td>\n",
       "      <td>544.3</td>\n",
       "      <td>0.028018</td>\n",
       "    </tr>\n",
       "    <tr>\n",
       "      <th>75%</th>\n",
       "      <td>102.000</td>\n",
       "      <td>18.251250</td>\n",
       "      <td>1.210050</td>\n",
       "      <td>0.105000</td>\n",
       "      <td>2.125000</td>\n",
       "      <td>1.682625</td>\n",
       "      <td>25.50000</td>\n",
       "      <td>537.0</td>\n",
       "      <td>0.047486</td>\n",
       "      <td>383.257500</td>\n",
       "      <td>26.314875</td>\n",
       "      <td>35.250000</td>\n",
       "      <td>544.3</td>\n",
       "      <td>0.064762</td>\n",
       "    </tr>\n",
       "    <tr>\n",
       "      <th>max</th>\n",
       "      <td>116.000</td>\n",
       "      <td>29.785000</td>\n",
       "      <td>3.872050</td>\n",
       "      <td>0.130000</td>\n",
       "      <td>2.500000</td>\n",
       "      <td>2.227500</td>\n",
       "      <td>30.00000</td>\n",
       "      <td>537.0</td>\n",
       "      <td>0.055866</td>\n",
       "      <td>714.840000</td>\n",
       "      <td>92.929200</td>\n",
       "      <td>65.000000</td>\n",
       "      <td>544.3</td>\n",
       "      <td>0.119419</td>\n",
       "    </tr>\n",
       "  </tbody>\n",
       "</table>\n",
       "</div>"
      ],
      "text/plain": [
       "       Unnamed: 0  Unit Price  Unit Profit  Unit Profit Percentage  \\\n",
       "count      10.000   10.000000    10.000000               10.000000   \n",
       "mean       64.800   12.149500     1.093405                0.088000   \n",
       "std        44.304   10.224191     1.094534                0.028206   \n",
       "min         0.000    2.685000     0.161100                0.060000   \n",
       "25%        27.000    3.802500     0.324000                0.060000   \n",
       "50%        79.000    9.340000     0.954000                0.090000   \n",
       "75%       102.000   18.251250     1.210050                0.105000   \n",
       "max       116.000   29.785000     3.872050                0.130000   \n",
       "\n",
       "       Unit Weight(kg)  Price per 100g  Quantity  Total Quantity  \\\n",
       "count        10.000000       10.000000  10.00000            10.0   \n",
       "mean          1.080000        1.383520  22.40000           537.0   \n",
       "std           1.027186        0.431234   4.40202             0.0   \n",
       "min           0.200000        0.823400  16.00000           537.0   \n",
       "25%           0.200000        1.105800  19.25000           537.0   \n",
       "50%           0.750000        1.266950  22.00000           537.0   \n",
       "75%           2.125000        1.682625  25.50000           537.0   \n",
       "max           2.500000        2.227500  30.00000           537.0   \n",
       "\n",
       "       Percent Purchased  Total Unit Sales  Total Unit Profit  \\\n",
       "count          10.000000         10.000000          10.000000   \n",
       "mean            0.041713        263.887500          24.198045   \n",
       "std             0.008197        224.220042          26.058917   \n",
       "min             0.029795         48.330000           2.899800   \n",
       "25%             0.035847         93.712500           7.890413   \n",
       "50%             0.040968        204.870000          19.021500   \n",
       "75%             0.047486        383.257500          26.314875   \n",
       "max             0.055866        714.840000          92.929200   \n",
       "\n",
       "       Total Unit Weight Sold  Total Weight  Percent of Total Weight Shipped  \n",
       "count               10.000000          10.0                        10.000000  \n",
       "mean                23.550000         544.3                         0.043267  \n",
       "std                 23.350815           0.0                         0.042901  \n",
       "min                  3.600000         544.3                         0.006614  \n",
       "25%                  5.550000         544.3                         0.010197  \n",
       "50%                 15.250000         544.3                         0.028018  \n",
       "75%                 35.250000         544.3                         0.064762  \n",
       "max                 65.000000         544.3                         0.119419  "
      ]
     },
     "execution_count": 20,
     "metadata": {},
     "output_type": "execute_result"
    }
   ],
   "source": [
    "ireland_prod.describe()"
   ]
  },
  {
   "cell_type": "markdown",
   "id": "53f409f0",
   "metadata": {},
   "source": [
    "Median weight is .75kg, between .5kg and 1kg bags. Mean weight is 1.08kg"
   ]
  },
  {
   "cell_type": "code",
   "execution_count": 12,
   "id": "fd0a46f6",
   "metadata": {},
   "outputs": [
    {
     "data": {
      "text/plain": [
       "([0, 1, 2, 3, 4, 5, 6, 7, 8, 9], <a list of 10 Text major ticklabel objects>)"
      ]
     },
     "execution_count": 12,
     "metadata": {},
     "output_type": "execute_result"
    },
    {
     "data": {
      "image/png": "[encoded data removed]",
      "text/plain": [
       "<Figure size 640x480 with 1 Axes>"
      ]
     },
     "metadata": {},
     "output_type": "display_data"
    }
   ],
   "source": [
    "plt.bar(ireland_prod['Product ID'], ireland_prod['Percent Purchased'])\n",
    "plt.xticks(rotation=90)"
   ]
  },
  {
   "cell_type": "markdown",
   "id": "c7877c7f",
   "metadata": {},
   "source": [
    "The most purchased product in Ireland is a light roast Robusta .2kg bag, followed by an dark roast Arabica .2kg bag. "
   ]
  },
  {
   "cell_type": "code",
   "execution_count": 19,
   "id": "2fc678a2",
   "metadata": {},
   "outputs": [
    {
     "data": {
      "text/html": [
       "<div>\n",
       "<style scoped>\n",
       "    .dataframe tbody tr th:only-of-type {\n",
       "        vertical-align: middle;\n",
       "    }\n",
       "\n",
       "    .dataframe tbody tr th {\n",
       "        vertical-align: top;\n",
       "    }\n",
       "\n",
       "    .dataframe thead th {\n",
       "        text-align: right;\n",
       "    }\n",
       "</style>\n",
       "<table border=\"1\" class=\"dataframe\">\n",
       "  <thead>\n",
       "    <tr style=\"text-align: right;\">\n",
       "      <th></th>\n",
       "      <th>Unnamed: 0</th>\n",
       "      <th>Unit Price</th>\n",
       "      <th>Unit Profit</th>\n",
       "      <th>Unit Profit Percentage</th>\n",
       "      <th>Unit Weight(kg)</th>\n",
       "      <th>Price per 100g</th>\n",
       "      <th>Quantity</th>\n",
       "      <th>Total Quantity</th>\n",
       "      <th>Percent Purchased</th>\n",
       "      <th>Total Unit Sales</th>\n",
       "      <th>Total Unit Profit</th>\n",
       "      <th>Total Unit Weight Sold</th>\n",
       "      <th>Total Weight</th>\n",
       "      <th>Percent of Total Weight Shipped</th>\n",
       "    </tr>\n",
       "  </thead>\n",
       "  <tbody>\n",
       "    <tr>\n",
       "      <th>count</th>\n",
       "      <td>10.000</td>\n",
       "      <td>10.000000</td>\n",
       "      <td>10.000000</td>\n",
       "      <td>10.000000</td>\n",
       "      <td>10.000000</td>\n",
       "      <td>10.000000</td>\n",
       "      <td>10.00000</td>\n",
       "      <td>10.0</td>\n",
       "      <td>10.000000</td>\n",
       "      <td>10.000000</td>\n",
       "      <td>10.000000</td>\n",
       "      <td>10.000000</td>\n",
       "      <td>10.0</td>\n",
       "      <td>10.000000</td>\n",
       "    </tr>\n",
       "    <tr>\n",
       "      <th>mean</th>\n",
       "      <td>64.800</td>\n",
       "      <td>12.149500</td>\n",
       "      <td>1.093405</td>\n",
       "      <td>0.088000</td>\n",
       "      <td>1.080000</td>\n",
       "      <td>1.383520</td>\n",
       "      <td>22.40000</td>\n",
       "      <td>537.0</td>\n",
       "      <td>0.041713</td>\n",
       "      <td>263.887500</td>\n",
       "      <td>24.198045</td>\n",
       "      <td>23.550000</td>\n",
       "      <td>544.3</td>\n",
       "      <td>0.043267</td>\n",
       "    </tr>\n",
       "    <tr>\n",
       "      <th>std</th>\n",
       "      <td>44.304</td>\n",
       "      <td>10.224191</td>\n",
       "      <td>1.094534</td>\n",
       "      <td>0.028206</td>\n",
       "      <td>1.027186</td>\n",
       "      <td>0.431234</td>\n",
       "      <td>4.40202</td>\n",
       "      <td>0.0</td>\n",
       "      <td>0.008197</td>\n",
       "      <td>224.220042</td>\n",
       "      <td>26.058917</td>\n",
       "      <td>23.350815</td>\n",
       "      <td>0.0</td>\n",
       "      <td>0.042901</td>\n",
       "    </tr>\n",
       "    <tr>\n",
       "      <th>min</th>\n",
       "      <td>0.000</td>\n",
       "      <td>2.685000</td>\n",
       "      <td>0.161100</td>\n",
       "      <td>0.060000</td>\n",
       "      <td>0.200000</td>\n",
       "      <td>0.823400</td>\n",
       "      <td>16.00000</td>\n",
       "      <td>537.0</td>\n",
       "      <td>0.029795</td>\n",
       "      <td>48.330000</td>\n",
       "      <td>2.899800</td>\n",
       "      <td>3.600000</td>\n",
       "      <td>544.3</td>\n",
       "      <td>0.006614</td>\n",
       "    </tr>\n",
       "    <tr>\n",
       "      <th>25%</th>\n",
       "      <td>27.000</td>\n",
       "      <td>3.802500</td>\n",
       "      <td>0.324000</td>\n",
       "      <td>0.060000</td>\n",
       "      <td>0.200000</td>\n",
       "      <td>1.105800</td>\n",
       "      <td>19.25000</td>\n",
       "      <td>537.0</td>\n",
       "      <td>0.035847</td>\n",
       "      <td>93.712500</td>\n",
       "      <td>7.890413</td>\n",
       "      <td>5.550000</td>\n",
       "      <td>544.3</td>\n",
       "      <td>0.010197</td>\n",
       "    </tr>\n",
       "    <tr>\n",
       "      <th>50%</th>\n",
       "      <td>79.000</td>\n",
       "      <td>9.340000</td>\n",
       "      <td>0.954000</td>\n",
       "      <td>0.090000</td>\n",
       "      <td>0.750000</td>\n",
       "      <td>1.266950</td>\n",
       "      <td>22.00000</td>\n",
       "      <td>537.0</td>\n",
       "      <td>0.040968</td>\n",
       "      <td>204.870000</td>\n",
       "      <td>19.021500</td>\n",
       "      <td>15.250000</td>\n",
       "      <td>544.3</td>\n",
       "      <td>0.028018</td>\n",
       "    </tr>\n",
       "    <tr>\n",
       "      <th>75%</th>\n",
       "      <td>102.000</td>\n",
       "      <td>18.251250</td>\n",
       "      <td>1.210050</td>\n",
       "      <td>0.105000</td>\n",
       "      <td>2.125000</td>\n",
       "      <td>1.682625</td>\n",
       "      <td>25.50000</td>\n",
       "      <td>537.0</td>\n",
       "      <td>0.047486</td>\n",
       "      <td>383.257500</td>\n",
       "      <td>26.314875</td>\n",
       "      <td>35.250000</td>\n",
       "      <td>544.3</td>\n",
       "      <td>0.064762</td>\n",
       "    </tr>\n",
       "    <tr>\n",
       "      <th>max</th>\n",
       "      <td>116.000</td>\n",
       "      <td>29.785000</td>\n",
       "      <td>3.872050</td>\n",
       "      <td>0.130000</td>\n",
       "      <td>2.500000</td>\n",
       "      <td>2.227500</td>\n",
       "      <td>30.00000</td>\n",
       "      <td>537.0</td>\n",
       "      <td>0.055866</td>\n",
       "      <td>714.840000</td>\n",
       "      <td>92.929200</td>\n",
       "      <td>65.000000</td>\n",
       "      <td>544.3</td>\n",
       "      <td>0.119419</td>\n",
       "    </tr>\n",
       "  </tbody>\n",
       "</table>\n",
       "</div>"
      ],
      "text/plain": [
       "       Unnamed: 0  Unit Price  Unit Profit  Unit Profit Percentage  \\\n",
       "count      10.000   10.000000    10.000000               10.000000   \n",
       "mean       64.800   12.149500     1.093405                0.088000   \n",
       "std        44.304   10.224191     1.094534                0.028206   \n",
       "min         0.000    2.685000     0.161100                0.060000   \n",
       "25%        27.000    3.802500     0.324000                0.060000   \n",
       "50%        79.000    9.340000     0.954000                0.090000   \n",
       "75%       102.000   18.251250     1.210050                0.105000   \n",
       "max       116.000   29.785000     3.872050                0.130000   \n",
       "\n",
       "       Unit Weight(kg)  Price per 100g  Quantity  Total Quantity  \\\n",
       "count        10.000000       10.000000  10.00000            10.0   \n",
       "mean          1.080000        1.383520  22.40000           537.0   \n",
       "std           1.027186        0.431234   4.40202             0.0   \n",
       "min           0.200000        0.823400  16.00000           537.0   \n",
       "25%           0.200000        1.105800  19.25000           537.0   \n",
       "50%           0.750000        1.266950  22.00000           537.0   \n",
       "75%           2.125000        1.682625  25.50000           537.0   \n",
       "max           2.500000        2.227500  30.00000           537.0   \n",
       "\n",
       "       Percent Purchased  Total Unit Sales  Total Unit Profit  \\\n",
       "count          10.000000         10.000000          10.000000   \n",
       "mean            0.041713        263.887500          24.198045   \n",
       "std             0.008197        224.220042          26.058917   \n",
       "min             0.029795         48.330000           2.899800   \n",
       "25%             0.035847         93.712500           7.890413   \n",
       "50%             0.040968        204.870000          19.021500   \n",
       "75%             0.047486        383.257500          26.314875   \n",
       "max             0.055866        714.840000          92.929200   \n",
       "\n",
       "       Total Unit Weight Sold  Total Weight  Percent of Total Weight Shipped  \n",
       "count               10.000000          10.0                        10.000000  \n",
       "mean                23.550000         544.3                         0.043267  \n",
       "std                 23.350815           0.0                         0.042901  \n",
       "min                  3.600000         544.3                         0.006614  \n",
       "25%                  5.550000         544.3                         0.010197  \n",
       "50%                 15.250000         544.3                         0.028018  \n",
       "75%                 35.250000         544.3                         0.064762  \n",
       "max                 65.000000         544.3                         0.119419  "
      ]
     },
     "execution_count": 19,
     "metadata": {},
     "output_type": "execute_result"
    }
   ],
   "source": []
  },
  {
   "cell_type": "code",
   "execution_count": 21,
   "id": "2fbe9686",
   "metadata": {},
   "outputs": [
    {
     "data": {
      "text/plain": [
       "([0, 1, 2, 3, 4, 5, 6, 7, 8, 9], <a list of 10 Text major ticklabel objects>)"
      ]
     },
     "execution_count": 21,
     "metadata": {},
     "output_type": "execute_result"
    },
    {
     "data": {
      "image/png": "[encoded data removed]",
      "text/plain": [
       "<Figure size 640x480 with 1 Axes>"
      ]
     },
     "metadata": {},
     "output_type": "display_data"
    }
   ],
   "source": [
    "plt.bar(ireland_prod['Product ID'], ireland_prod['Total Unit Profit'])\n",
    "plt.xticks(rotation=90)"
   ]
  },
  {
   "cell_type": "markdown",
   "id": "5d883b77",
   "metadata": {},
   "source": [
    "The dark roast liberica 2.5kg bag is far and away bringing in the most total profit."
   ]
  },
  {
   "cell_type": "code",
   "execution_count": 14,
   "id": "4647afd4",
   "metadata": {},
   "outputs": [
    {
     "data": {
      "text/plain": [
       "([0, 1, 2, 3, 4, 5, 6, 7, 8, 9], <a list of 10 Text major ticklabel objects>)"
      ]
     },
     "execution_count": 14,
     "metadata": {},
     "output_type": "execute_result"
    },
    {
     "data": {
      "image/png": "[encoded data removed]",
      "text/plain": [
       "<Figure size 640x480 with 1 Axes>"
      ]
     },
     "metadata": {},
     "output_type": "display_data"
    }
   ],
   "source": [
    "plt.bar(ireland_prod['Product ID'], ireland_prod['Unit Price'])\n",
    "plt.xticks(rotation=90)"
   ]
  },
  {
   "cell_type": "code",
   "execution_count": 15,
   "id": "7e541cb0",
   "metadata": {},
   "outputs": [
    {
     "data": {
      "text/plain": [
       "([0, 1, 2, 3, 4, 5, 6, 7, 8, 9], <a list of 10 Text major ticklabel objects>)"
      ]
     },
     "execution_count": 15,
     "metadata": {},
     "output_type": "execute_result"
    },
    {
     "data": {
      "image/png": "[encoded data removed]",
      "text/plain": [
       "<Figure size 640x480 with 1 Axes>"
      ]
     },
     "metadata": {},
     "output_type": "display_data"
    }
   ],
   "source": [
    "plt.bar(ireland_prod['Product ID'], ireland_prod['Price per 100g'])\n",
    "plt.xticks(rotation=90)"
   ]
  },
  {
   "cell_type": "code",
   "execution_count": 16,
   "id": "71adb629",
   "metadata": {},
   "outputs": [
    {
     "data": {
      "text/plain": [
       "([0, 1, 2, 3, 4, 5, 6, 7, 8, 9], <a list of 10 Text major ticklabel objects>)"
      ]
     },
     "execution_count": 16,
     "metadata": {},
     "output_type": "execute_result"
    },
    {
     "data": {
      "image/png": "[encoded data removed]",
      "text/plain": [
       "<Figure size 640x480 with 1 Axes>"
      ]
     },
     "metadata": {},
     "output_type": "display_data"
    }
   ],
   "source": [
    "plt.bar(ireland_prod['Product ID'], ireland_prod['Unit Profit Percentage'])\n",
    "plt.xticks(rotation=90)"
   ]
  },
  {
   "cell_type": "code",
   "execution_count": null,
   "id": "7d7705dd",
   "metadata": {},
   "outputs": [],
   "source": []
  },
  {
   "cell_type": "code",
   "execution_count": null,
   "id": "8c10609e",
   "metadata": {},
   "outputs": [],
   "source": []
  },
  {
   "cell_type": "code",
   "execution_count": null,
   "id": "b1172ed3",
   "metadata": {},
   "outputs": [],
   "source": []
  },
  {
   "cell_type": "code",
   "execution_count": null,
   "id": "368cc671",
   "metadata": {},
   "outputs": [],
   "source": []
  }
 ],
 "metadata": {
  "kernelspec": {
   "display_name": "Python 3 (ipykernel)",
   "language": "python",
   "name": "python3"
  },
  "language_info": {
   "codemirror_mode": {
    "name": "ipython",
    "version": 3
   },
   "file_extension": ".py",
   "mimetype": "text/x-python",
   "name": "python",
   "nbconvert_exporter": "python",
   "pygments_lexer": "ipython3",
   "version": "3.7.16"
  }
 },
 "nbformat": 4,
 "nbformat_minor": 5
}
